{
  "nbformat": 4,
  "nbformat_minor": 0,
  "metadata": {
    "colab": {
      "provenance": []
    },
    "kernelspec": {
      "name": "python3",
      "display_name": "Python 3"
    },
    "language_info": {
      "name": "python"
    }
  },
  "cells": [
    {
      "cell_type": "markdown",
      "source": [
        "### Thinkful Capstone 3 | **Vending Machine Analysis**\n",
        "#### *Author: Ford Johnson*\n",
        "<br>\n",
        "\n",
        "> \"*C W Mills in the Sociological Imagination says sociology lies at the intersection of history and biography. People and the Past. What a great location. **Mills says to think sociologically is about making the familiar strange.** This requires thinking critically about the social world. Adopting a different way of seeing. Challenging conventional wisdom.*\"\n",
        ">\n",
        ">\\- Sue Watling, PhD\n",
        "\n",
        "\n",
        "<br>\n",
        "Vending machines are all around us in our daily lives and they provide a convenient way to get a snack or beverage. However vending machines are not just filled without a specific logic or reason. The reason I wanted to look at vending machine data was to make something that seems so familiar such as vending machines...strange. Doing so to understand this from a both a customer's and stakeholder's persepective, with a data-driven approach.\n",
        "<br>\n",
        "<br>\n",
        "<a href=\"https://www.kaggle.com/datasets/awesomeasingh/vending-machine-sales\">Click here</a> to view the dataset on Kaggle.\n",
        "<br>\n",
        "<br>\n",
        "\n",
        "### **Data Overview**\n",
        "> **Data Date Range:** `1/1/2022 - 8/31/2022`\n",
        ">\n",
        "> **Number of Vending Machines:** `5`\n",
        ">\n",
        "> **Number of Locations:** `4`\n",
        ">\n",
        "> **Number of product categories:** `4`\n",
        ">\n",
        "> **Number of products:** `162`\n",
        ">\n",
        "> **Number of transactions:** `6445`\n"
      ],
      "metadata": {
        "id": "8SdZRIR2bhF6"
      }
    },
    {
      "cell_type": "markdown",
      "source": [
        "### Import Python Libraries and load data"
      ],
      "metadata": {
        "id": "WPjaJxj3C_1G"
      }
    },
    {
      "cell_type": "code",
      "execution_count": null,
      "metadata": {
        "colab": {
          "base_uri": "https://localhost:8080/"
        },
        "id": "xQbvjS7Ga2N3",
        "outputId": "0d95ac01-0f85-4dd8-b953-1f3a65f54317"
      },
      "outputs": [
        {
          "output_type": "stream",
          "name": "stdout",
          "text": [
            "Mounted at /content/gdrive\n"
          ]
        }
      ],
      "source": [
        "# import libraries\n",
        "import pandas as pd\n",
        "import numpy as np\n",
        "from scipy import stats\n",
        "from scipy.stats import ttest_ind\n",
        "import seaborn as sns \n",
        "sns.set()\n",
        "import matplotlib.pyplot as plt\n",
        "from google.colab import drive\n",
        "drive.mount('/content/gdrive')\n",
        "\n",
        "# read csv\n",
        "df = pd.read_csv(\"/content/gdrive/MyDrive/colab-datasets/vending_machine_sales.csv\")"
      ]
    },
    {
      "cell_type": "markdown",
      "source": [
        "### Global Data Cleaning"
      ],
      "metadata": {
        "id": "FXmuYFnBDKUA"
      }
    },
    {
      "cell_type": "code",
      "source": [
        "# data cleaning\n",
        "# df.info()\n",
        "df = df.dropna()"
      ],
      "metadata": {
        "id": "lX8p-2Wtj7BD"
      },
      "execution_count": null,
      "outputs": []
    },
    {
      "cell_type": "markdown",
      "source": [
        "### Data Overview"
      ],
      "metadata": {
        "id": "69IRTBnvkMWy"
      }
    },
    {
      "cell_type": "code",
      "source": [
        "total_overview = df.groupby(\"Category\").sum()[['RPrice']]\n",
        "total_overview['Total Revenue'] = total_overview['RPrice']\n",
        "total_overview = total_overview.drop(['RPrice'], axis=1)\n",
        "print(total_overview)"
      ],
      "metadata": {
        "colab": {
          "base_uri": "https://localhost:8080/"
        },
        "id": "5v5HZzBZDRlZ",
        "outputId": "4bd03136-5a10-44c9-90bf-c599aaefa5b0"
      },
      "execution_count": null,
      "outputs": [
        {
          "output_type": "stream",
          "name": "stdout",
          "text": [
            "                Total Revenue\n",
            "Category                     \n",
            "Carbonated            3371.50\n",
            "Food                  5835.25\n",
            "Non Carbonated        1811.25\n",
            "Water                  893.25\n"
          ]
        }
      ]
    },
    {
      "cell_type": "markdown",
      "source": [
        "## Findings"
      ],
      "metadata": {
        "id": "HbwTULeWDSMy"
      }
    },
    {
      "cell_type": "markdown",
      "source": [
        "### Hypothesis #1\n",
        "The average revenue per drink for carbonated drinks is **significantly higher** than non-carbonated drinks.\n",
        "> Assuming there is equal demand (purchases) among the two categories"
      ],
      "metadata": {
        "id": "cuUaa1-LkUKO"
      }
    },
    {
      "cell_type": "code",
      "source": [
        "# create data frames for carbonated and non-carbonated categories\n",
        "df_carb = df.loc[df['Category'] == 'Carbonated']\n",
        "df_noncarb = df.loc[df['Category'] == 'Non Carbonated']\n",
        "\n",
        "# conduct t-test to test for signif\n",
        "tc, pc = ttest_ind(df_noncarb['RPrice'], df_carb['RPrice'])\n",
        "print(tc, pc)\n",
        "\n",
        "# context \n",
        "from numpy import mean\n",
        "t_1 = df[df['Category'].isin(['Carbonated', 'Non Carbonated'])]\n",
        "h_1 = sns.barplot(x = 'Category', y = 'RPrice', data = t_1, estimator = mean)\n",
        "print(h_1)"
      ],
      "metadata": {
        "colab": {
          "base_uri": "https://localhost:8080/",
          "height": 320
        },
        "id": "uJ3boNwelm_O",
        "outputId": "ad68bbb3-663c-4dae-a785-58f208d73830"
      },
      "execution_count": null,
      "outputs": [
        {
          "output_type": "stream",
          "name": "stdout",
          "text": [
            "14.522678813161257 7.95456326451125e-46\n",
            "AxesSubplot(0.125,0.125;0.775x0.755)\n"
          ]
        },
        {
          "output_type": "display_data",
          "data": {
            "text/plain": [
              "<Figure size 432x288 with 1 Axes>"
            ],
            "image/png": "[encoded data removed]"
          },
          "metadata": {}
        }
      ]
    },
    {
      "cell_type": "markdown",
      "source": [
        "### Hypothesis #1 Summary\n",
        "- The above bar chart shows the average revenue per product for both carbonated and non-carbonated beverages\n",
        "- However, the non-carbonated drinks cost more on average than their carbonated counterparts, so therefore I **reject hypothesis #1**\n",
        " - This is a significant difference at a 95% confidence level | p < .01 \n",
        "\n",
        "<br>\n",
        "Because non-carbonated drinks are more expensive but have less total revenue than carbonated drinks that would mean carbonated drinks are bought more often..."
      ],
      "metadata": {
        "id": "VH1krLY44rGU"
      }
    },
    {
      "cell_type": "code",
      "source": [
        "# get counts for carbonated and non-carbonated drinks\n",
        "count_overview = t_1.groupby(\"Category\").count()[['RPrice']]\n",
        "count_overview['Total Sold'] = count_overview['RPrice']\n",
        "count_overview = count_overview.drop(['RPrice'], axis=1)\n",
        "print(count_overview)"
      ],
      "metadata": {
        "colab": {
          "base_uri": "https://localhost:8080/"
        },
        "id": "TRIsKEoUI40G",
        "outputId": "623ef055-d772-485b-941b-e87161cdbaaf"
      },
      "execution_count": null,
      "outputs": [
        {
          "output_type": "stream",
          "name": "stdout",
          "text": [
            "                Total Sold\n",
            "Category                  \n",
            "Carbonated            1639\n",
            "Non Carbonated         710\n"
          ]
        }
      ]
    },
    {
      "cell_type": "markdown",
      "source": [
        "#### **Carbonated Vs Non-carbonated**\n",
        "We know that non-carbonated on average makes more revenue than carbonated drinks, but carbonated drinks are sold more. With many different options, and limited space for drinks in the vending machines, we need to optimize the product selection.\n",
        "<br>\n",
        "\n",
        "*This begs the question...* \n",
        "\n",
        "**What are the most popular carbonated drinks out of the 16 options?** \n",
        "> I can easily find this out by looking at only carbonated drinks and sorting this df descending by count"
      ],
      "metadata": {
        "id": "MqDXNm7Uscuq"
      }
    },
    {
      "cell_type": "markdown",
      "source": [
        "##### **Carbonated Drinks** | 16 Total Products\n",
        "\n"
      ],
      "metadata": {
        "id": "PqBxP_H2t_AE"
      }
    },
    {
      "cell_type": "code",
      "source": [
        "# create df filtered for only carbonated drinks\n",
        "carbonated_df = df.loc[df['Category'] == 'Carbonated']\n",
        "\n",
        "# get counts for each product \n",
        "carb_count_overview = carbonated_df.groupby('Product').count()[['RPrice']]\n",
        "carb_count_overview['Total Sold'] = carb_count_overview['RPrice']\n",
        "carb_count_overview = carb_count_overview.drop(['RPrice'], axis=1)\n",
        "carb_count_overview = carb_count_overview.sort_values(by = 'Total Sold', ascending=False)\n",
        "\n",
        "# all total options (16 total)\n",
        "print(carb_count_overview)\n",
        "\n",
        "carb_top_5 = carb_count_overview.head()\n",
        "\n",
        "carb_bottom_11 = carb_count_overview.tail(11)"
      ],
      "metadata": {
        "colab": {
          "base_uri": "https://localhost:8080/"
        },
        "id": "4ppZnUzL2Asb",
        "outputId": "91e04378-b16b-40e3-a2a8-0e3a38003ea2"
      },
      "execution_count": null,
      "outputs": [
        {
          "output_type": "stream",
          "name": "stdout",
          "text": [
            "                                               Total Sold\n",
            "Product                                                  \n",
            "Coca Cola - Zero Sugar                                517\n",
            "Monster Energy Original                               385\n",
            "Sunkist Soda - Orange                                 217\n",
            "Red Bull - Original                                   157\n",
            "Coca Cola - Regular                                   155\n",
            "Starbucks Refresher - Real Coconut Water               53\n",
            "Spindrift - Sparkling Water - Pineapple                51\n",
            "Keto Krisp - Almond Butter                             27\n",
            "Spindrift - Sparkling Water  Lime                      22\n",
            "Red Bull - Energy Drink - Sugar Free                   21\n",
            "Keto Krisp - Almond/Chocolate                          15\n",
            "Bubly - Cherry                                          5\n",
            "Bubly - Mango                                           5\n",
            "Monster Energy  Zero Ultra                              4\n",
            "S. Pellegrino Essenza Mineral Water - Blood O           3\n",
            "Remedy Kombucha - Ginger Lemon                          2\n"
          ]
        }
      ]
    },
    {
      "cell_type": "markdown",
      "source": [
        "##### **Top 5 Carbonated Drinks Overall**\n",
        "\n",
        "These are the top 5 carbonated drinks and they also all have over 100 purchases, and they are the main carbonated drinks you should be stocking in these locations"
      ],
      "metadata": {
        "id": "Q44p0_hAWOys"
      }
    },
    {
      "cell_type": "code",
      "source": [
        "print(carb_top_5)"
      ],
      "metadata": {
        "colab": {
          "base_uri": "https://localhost:8080/"
        },
        "id": "AHvbcnFbt6Vr",
        "outputId": "8bd5f45d-4436-4028-8cbb-446e703ad69d"
      },
      "execution_count": null,
      "outputs": [
        {
          "output_type": "stream",
          "name": "stdout",
          "text": [
            "                         Total Sold\n",
            "Product                            \n",
            "Coca Cola - Zero Sugar          517\n",
            "Monster Energy Original         385\n",
            "Sunkist Soda - Orange           217\n",
            "Red Bull - Original             157\n",
            "Coca Cola - Regular             155\n"
          ]
        }
      ]
    },
    {
      "cell_type": "markdown",
      "source": [
        "##### **Bottom 11 Carbonated Drinks Overall**\n",
        "These are the drinks that should be reconsidered, especially the ones with less than 30 sold, as they are taking up space in the machines and not frequently bought."
      ],
      "metadata": {
        "id": "DuSpOg-tuE9P"
      }
    },
    {
      "cell_type": "code",
      "source": [
        "print(carb_bottom_11)"
      ],
      "metadata": {
        "colab": {
          "base_uri": "https://localhost:8080/"
        },
        "id": "UjsSKx6St9hx",
        "outputId": "1ed6d7ba-b102-4239-c470-0e6be0fb0d5b"
      },
      "execution_count": null,
      "outputs": [
        {
          "output_type": "stream",
          "name": "stdout",
          "text": [
            "                                               Total Sold\n",
            "Product                                                  \n",
            "Starbucks Refresher - Real Coconut Water               53\n",
            "Spindrift - Sparkling Water - Pineapple                51\n",
            "Keto Krisp - Almond Butter                             27\n",
            "Spindrift - Sparkling Water  Lime                      22\n",
            "Red Bull - Energy Drink - Sugar Free                   21\n",
            "Keto Krisp - Almond/Chocolate                          15\n",
            "Bubly - Cherry                                          5\n",
            "Bubly - Mango                                           5\n",
            "Monster Energy  Zero Ultra                              4\n",
            "S. Pellegrino Essenza Mineral Water - Blood O           3\n",
            "Remedy Kombucha - Ginger Lemon                          2\n"
          ]
        }
      ]
    },
    {
      "cell_type": "markdown",
      "source": [
        "##### **Non-carbonated Drinks** | 24 Total Products"
      ],
      "metadata": {
        "id": "B1L2cOlQVUkV"
      }
    },
    {
      "cell_type": "code",
      "source": [
        "# create df filtered for only non-carbonated drinks\n",
        "non_carbonated_df = df.loc[df['Category'] == 'Non Carbonated']\n",
        "\n",
        "# get counts for each product \n",
        "non_carb_count_overview = non_carbonated_df.groupby('Product').count()[['RPrice']]\n",
        "non_carb_count_overview['Total Sold'] = non_carb_count_overview['RPrice']\n",
        "non_carb_count_overview = non_carb_count_overview.drop(['RPrice'], axis=1)\n",
        "non_carb_count_overview = non_carb_count_overview.sort_values(by = 'Total Sold', ascending=False)\n",
        "\n",
        "# all total options\n",
        "print(non_carb_count_overview)"
      ],
      "metadata": {
        "colab": {
          "base_uri": "https://localhost:8080/"
        },
        "id": "8LdSaeOtVhzh",
        "outputId": "202e888a-211b-4142-9783-f657cec1535f"
      },
      "execution_count": null,
      "outputs": [
        {
          "output_type": "stream",
          "name": "stdout",
          "text": [
            "                                            Total Sold\n",
            "Product                                               \n",
            "Snapple Diet Tea - Peach Tea                       109\n",
            "Snapple Diet Tea - Lemon                            88\n",
            "Snapple Tea - Raspberry                             79\n",
            "Starbucks Doubleshot Energy - Mocha                 74\n",
            "Iberia Coconut Water                                72\n",
            "Snapple Tea - Lemon                                 51\n",
            "Bai Antioxidant - Tanzania Lemon Super Tea          33\n",
            "Snapple Tea - Peach                                 31\n",
            "Snapple Diet Tea - Raspberry                        28\n",
            "V8 Vegetable Juice - Original                       27\n",
            "BodyArmor  LYTE - Blueberry Pomegranate             23\n",
            "Bai Antioxidant - Molokai Coconut                   12\n",
            "Bai Antioxidant - Zambia Bingcherry                 11\n",
            "Bai Lemonade - Burundi Blueberry                    10\n",
            "Honest Tea - Berry Hibiscus                         10\n",
            "Bai Antioxidant - Kupang strawberry kiwi            10\n",
            "Snapple Lemonade - black berry                       8\n",
            "Snapple Lemonade - pineapple                         8\n",
            "Snapple Lemonade - watermelon                        8\n",
            "Zevia Zero Calorie Energy - Mango Ginger             6\n",
            "Bai Antioxidant - Kula Watermelon                    5\n",
            "Bai Antioxidant - Brasilia BB                        4\n",
            "Spindrift - Sparkling Water Raspberry Lime           2\n",
            "Zevia Organic Tea - Peach                            1\n"
          ]
        }
      ]
    },
    {
      "cell_type": "markdown",
      "source": [
        "##### **Top 5 Non-Carbonated Drinks Overall**\n",
        "\n",
        "These are the top 5 non-carbonated drinks and they also all have over 70 purchases, and they are the main non-carbonated drinks you should be stocking in these locations"
      ],
      "metadata": {
        "id": "F09S0IjXWaD_"
      }
    },
    {
      "cell_type": "code",
      "source": [
        "print(non_carb_count_overview.head())"
      ],
      "metadata": {
        "colab": {
          "base_uri": "https://localhost:8080/"
        },
        "id": "IqzgEOgkZBYr",
        "outputId": "17b13cea-ca66-4209-fb4b-1032ad0bf8cc"
      },
      "execution_count": null,
      "outputs": [
        {
          "output_type": "stream",
          "name": "stdout",
          "text": [
            "                                     Total Sold\n",
            "Product                                        \n",
            "Snapple Diet Tea - Peach Tea                109\n",
            "Snapple Diet Tea - Lemon                     88\n",
            "Snapple Tea - Raspberry                      79\n",
            "Starbucks Doubleshot Energy - Mocha          74\n",
            "Iberia Coconut Water                         72\n"
          ]
        }
      ]
    },
    {
      "cell_type": "markdown",
      "source": [
        "##### **Bottom 19 Non-Carbonated Drinks Overall**\n",
        "These non-carbonated drinks are not as popular in these locations and they need to be reconsidered, if there is space for more non-carbonated drinks then the most popular of this table should be given the most consideration. (Top 3-5)"
      ],
      "metadata": {
        "id": "bCGZswHzZlD4"
      }
    },
    {
      "cell_type": "code",
      "source": [
        "print(non_carb_count_overview.tail(19))"
      ],
      "metadata": {
        "colab": {
          "base_uri": "https://localhost:8080/"
        },
        "id": "S9c-wiyYaN6M",
        "outputId": "79a7eeae-0b68-4005-89c2-4875701edc2d"
      },
      "execution_count": null,
      "outputs": [
        {
          "output_type": "stream",
          "name": "stdout",
          "text": [
            "                                            Total Sold\n",
            "Product                                               \n",
            "Snapple Tea - Lemon                                 51\n",
            "Bai Antioxidant - Tanzania Lemon Super Tea          33\n",
            "Snapple Tea - Peach                                 31\n",
            "Snapple Diet Tea - Raspberry                        28\n",
            "V8 Vegetable Juice - Original                       27\n",
            "BodyArmor  LYTE - Blueberry Pomegranate             23\n",
            "Bai Antioxidant - Molokai Coconut                   12\n",
            "Bai Antioxidant - Zambia Bingcherry                 11\n",
            "Bai Lemonade - Burundi Blueberry                    10\n",
            "Honest Tea - Berry Hibiscus                         10\n",
            "Bai Antioxidant - Kupang strawberry kiwi            10\n",
            "Snapple Lemonade - black berry                       8\n",
            "Snapple Lemonade - pineapple                         8\n",
            "Snapple Lemonade - watermelon                        8\n",
            "Zevia Zero Calorie Energy - Mango Ginger             6\n",
            "Bai Antioxidant - Kula Watermelon                    5\n",
            "Bai Antioxidant - Brasilia BB                        4\n",
            "Spindrift - Sparkling Water Raspberry Lime           2\n",
            "Zevia Organic Tea - Peach                            1\n"
          ]
        }
      ]
    },
    {
      "cell_type": "markdown",
      "source": [
        "### Hypothesis #2\n",
        "The average revenue per carbonated drink is **significantly higher** than for water.\n",
        "> Assuming there is equal demand (purchases) among the two categories"
      ],
      "metadata": {
        "id": "yYjIFLJi2jfO"
      }
    },
    {
      "cell_type": "code",
      "source": [
        "# create data frames for carbonated and water categories\n",
        "# df_carb = df.loc[df['Category'] == 'Carbonated']\n",
        "df_water = df.loc[df['Category'] == 'Water']\n",
        "\n",
        "# conduct t-test to test for signif\n",
        "tc2, pc2 = ttest_ind(df_water['RPrice'], df_carb['RPrice'])\n",
        "print(tc2, pc2)\n",
        "\n",
        "# context \n",
        "from numpy import mean\n",
        "t_2 = df[df['Category'].isin(['Carbonated', 'Water'])]\n",
        "h_2 = sns.barplot(x = 'Category', y = 'RPrice', data = t_2, estimator = mean)\n",
        "print(h_2)"
      ],
      "metadata": {
        "colab": {
          "base_uri": "https://localhost:8080/",
          "height": 320
        },
        "id": "Kcyk8kukSWXx",
        "outputId": "5731b43c-42c1-41b9-8e03-c9e0e38975af"
      },
      "execution_count": null,
      "outputs": [
        {
          "output_type": "stream",
          "name": "stdout",
          "text": [
            "-5.038787638137021 5.081582172672138e-07\n",
            "AxesSubplot(0.125,0.125;0.775x0.755)\n"
          ]
        },
        {
          "output_type": "display_data",
          "data": {
            "text/plain": [
              "<Figure size 432x288 with 1 Axes>"
            ],
            "image/png": "[encoded data removed]"
          },
          "metadata": {}
        }
      ]
    },
    {
      "cell_type": "markdown",
      "source": [
        "### Hypothesis #2 Summary\n",
        "- The above bar chart shows the average revenue per product for both carbonated and water beverages\n",
        "- **Hypothesis #2 is retained** as the average revenue per cabonated beverage is **higher** than that of the beverages in the water category\n",
        " - This is a significant difference at a 95% confidence level | p < .01 \n",
        "\n",
        "<br>\n",
        "From here it is time to investigate the selection of water."
      ],
      "metadata": {
        "id": "Zfp3i-qKUQg4"
      }
    },
    {
      "cell_type": "markdown",
      "source": [
        "##### **Water** | 11 Total Products"
      ],
      "metadata": {
        "id": "ho5TvSJHcNVk"
      }
    },
    {
      "cell_type": "code",
      "source": [
        "# create df filtered for only water\n",
        "water_df = df.loc[df['Category'] == 'Water']\n",
        "\n",
        "# get counts for each product \n",
        "water_count_overview = water_df.groupby('Product').count()[['RPrice']]\n",
        "water_count_overview['Total Sold'] = water_count_overview['RPrice']\n",
        "water_count_overview = water_count_overview.drop(['RPrice'], axis=1)\n",
        "water_count_overview = water_count_overview.sort_values(by = 'Total Sold', ascending=False)\n",
        "\n",
        "# all total options\n",
        "print(water_count_overview)"
      ],
      "metadata": {
        "colab": {
          "base_uri": "https://localhost:8080/"
        },
        "id": "9dvXpw7AbDya",
        "outputId": "bd113987-738f-4666-df91-54ca6fac2d7d"
      },
      "execution_count": null,
      "outputs": [
        {
          "output_type": "stream",
          "name": "stdout",
          "text": [
            "                                         Total Sold\n",
            "Product                                            \n",
            "Poland Springs Water                            300\n",
            "S. Pellegrino Sparkling Mineral Water            66\n",
            "BodyArmor LYTE - Strawberry Lemonade             33\n",
            "Vitamin Water - Squeezed Lemonade                25\n",
            "BodyArmor LYTE  - Peach Mango                    19\n",
            "Vitamin Water - XXX Acai BB Pomegranate          17\n",
            "Vitamin Water - Ice Cool Blue Lavender           10\n",
            "Bubly - Blackberry                                4\n",
            "Bubly - Lime                                      4\n",
            "Bubly - Grapefruit                                3\n",
            "BodyArmor LYTE  - Berry Punch                     2\n"
          ]
        }
      ]
    },
    {
      "cell_type": "markdown",
      "source": [
        "##### **Top Water Product Overall**\n",
        "\n",
        "The Poland Springs Water is by far the most popular."
      ],
      "metadata": {
        "id": "62Ddi8CjcZi0"
      }
    },
    {
      "cell_type": "code",
      "source": [
        "print(water_count_overview.head(1))"
      ],
      "metadata": {
        "colab": {
          "base_uri": "https://localhost:8080/"
        },
        "id": "2Sc4h_gbdVKC",
        "outputId": "466937ab-1f3d-4f87-cbca-d4e33c813009"
      },
      "execution_count": null,
      "outputs": [
        {
          "output_type": "stream",
          "name": "stdout",
          "text": [
            "                      Total Sold\n",
            "Product                         \n",
            "Poland Springs Water         300\n"
          ]
        }
      ]
    },
    {
      "cell_type": "markdown",
      "source": [
        "##### **Bottom 10 Water Products Overall**\n",
        "\n",
        "As water does not generate a large portion of revenue, and with limited space it is recomended to replace these poor performing water products and consider other non-water beverages or food that sells more frequently or generates more revenue in these locations."
      ],
      "metadata": {
        "id": "PfchHv1ndbQY"
      }
    },
    {
      "cell_type": "code",
      "source": [
        "print(water_count_overview.tail(10))"
      ],
      "metadata": {
        "colab": {
          "base_uri": "https://localhost:8080/"
        },
        "id": "TNuXO9pKeLBT",
        "outputId": "95af85c7-ac74-468f-85f5-38082e10aa26"
      },
      "execution_count": null,
      "outputs": [
        {
          "output_type": "stream",
          "name": "stdout",
          "text": [
            "                                         Total Sold\n",
            "Product                                            \n",
            "S. Pellegrino Sparkling Mineral Water            66\n",
            "BodyArmor LYTE - Strawberry Lemonade             33\n",
            "Vitamin Water - Squeezed Lemonade                25\n",
            "BodyArmor LYTE  - Peach Mango                    19\n",
            "Vitamin Water - XXX Acai BB Pomegranate          17\n",
            "Vitamin Water - Ice Cool Blue Lavender           10\n",
            "Bubly - Blackberry                                4\n",
            "Bubly - Lime                                      4\n",
            "Bubly - Grapefruit                                3\n",
            "BodyArmor LYTE  - Berry Punch                     2\n"
          ]
        }
      ]
    },
    {
      "cell_type": "markdown",
      "source": [
        "### Hypothesis #3\n",
        "The average revenue per carbonated drink is **significantly higher** than the average revenue for food products.\n",
        "> Assuming there is equal demand (purchases) among the two categories"
      ],
      "metadata": {
        "id": "gqCeFfkqfCUG"
      }
    },
    {
      "cell_type": "code",
      "source": [
        "# create data frames for carbonated and water categories\n",
        "# df_carb = df.loc[df['Category'] == 'Carbonated']\n",
        "df_food = df.loc[df['Category'] == 'Food']\n",
        "\n",
        "# conduct t-test to test for signif\n",
        "tc3, pc3 = ttest_ind(df_food['RPrice'], df_carb['RPrice'])\n",
        "print(tc3, pc3)\n",
        "\n",
        "# context \n",
        "from numpy import mean\n",
        "t_3 = df[df['Category'].isin(['Carbonated', 'Food'])]\n",
        "h_3 = sns.barplot(x = 'Category', y = 'RPrice', data = t_3, estimator = mean)\n",
        "print(h_3)"
      ],
      "metadata": {
        "colab": {
          "base_uri": "https://localhost:8080/",
          "height": 320
        },
        "id": "ZSXoXHe3fiTa",
        "outputId": "8a2f8bf1-e852-4437-a2dc-c16463b51b12"
      },
      "execution_count": null,
      "outputs": [
        {
          "output_type": "stream",
          "name": "stdout",
          "text": [
            "-19.521880709626263 6.853161341994257e-82\n",
            "AxesSubplot(0.125,0.125;0.775x0.755)\n"
          ]
        },
        {
          "output_type": "display_data",
          "data": {
            "text/plain": [
              "<Figure size 432x288 with 1 Axes>"
            ],
            "image/png": "[encoded data removed]"
          },
          "metadata": {}
        }
      ]
    },
    {
      "cell_type": "markdown",
      "source": [
        "### Hypothesis #3 Summary\n",
        "- The above bar chart shows the average revenue per product for both carbonated drinks and food\n",
        "- **Hypothesis #3 is retained** as the average revenue per cabonated beverage is **higher** than the average revenue per food product\n",
        " - This is a significant difference at a 95% confidence level | p < .01 \n",
        "\n",
        "<br>\n",
        "From here we can look at the food selection and options"
      ],
      "metadata": {
        "id": "N8PCPHRvB4BK"
      }
    },
    {
      "cell_type": "markdown",
      "source": [
        "##### **Food** | 111 Total Products"
      ],
      "metadata": {
        "id": "i3fUoTEWlcqR"
      }
    },
    {
      "cell_type": "code",
      "source": [
        "# create df filtered for only food\n",
        "food_df = df.loc[df['Category'] == 'Food']\n",
        "\n",
        "# get counts for each product \n",
        "food_count_overview = food_df.groupby('Product').count()[['RPrice']]\n",
        "food_count_overview['Total Sold'] = food_count_overview['RPrice']\n",
        "food_count_overview = food_count_overview.drop(['RPrice'], axis=1)\n",
        "food_count_overview = food_count_overview.sort_values(by = 'Total Sold', ascending=False)\n",
        "\n",
        "# all total options\n",
        "print(food_count_overview)"
      ],
      "metadata": {
        "colab": {
          "base_uri": "https://localhost:8080/"
        },
        "id": "to8NskvdlNJy",
        "outputId": "e25df4fa-d976-4b99-97fb-237d4787d895"
      },
      "execution_count": null,
      "outputs": [
        {
          "output_type": "stream",
          "name": "stdout",
          "text": [
            "                                               Total Sold\n",
            "Product                                                  \n",
            "KitKat - Crisp Wafers                                 260\n",
            "Wonderful Pistachios - Variety                        144\n",
            "CheezIt - Original                                    138\n",
            "SunChips Multigrain - Harvest Cheddar                 131\n",
            "Robert Irvine's - Fit Crunch -  Chocolate Pea         121\n",
            "...                                                   ...\n",
            "Nature's Garden Trail Mix - Heart Healthy Mix           1\n",
            "Nature's Garden Trail Mix - Omega 3                     1\n",
            "Nature's Valley Chewy Granola Bar - Fruit & N           1\n",
            "Nature's Valley Crunchy Granola Bar - Oats &            1\n",
            "Larabar - Peanut Butter chocolate Chip                  1\n",
            "\n",
            "[111 rows x 1 columns]\n"
          ]
        }
      ]
    },
    {
      "cell_type": "markdown",
      "source": [
        "##### **Top Food Products** | Greater than 25 units sold to date\n",
        "These are the food products that are the most popular and should be kept in the machines."
      ],
      "metadata": {
        "id": "5TxGbqB0leWp"
      }
    },
    {
      "cell_type": "code",
      "source": [
        "food_greater_than_25 = food_count_overview[food_count_overview['Total Sold'] > 25]\n",
        "print(food_greater_than_25)"
      ],
      "metadata": {
        "colab": {
          "base_uri": "https://localhost:8080/"
        },
        "id": "BcneAX_smIk9",
        "outputId": "95e33963-13ce-45d7-c277-b11150d59f32"
      },
      "execution_count": null,
      "outputs": [
        {
          "output_type": "stream",
          "name": "stdout",
          "text": [
            "                                               Total Sold\n",
            "Product                                                  \n",
            "KitKat - Crisp Wafers                                 260\n",
            "Wonderful Pistachios - Variety                        144\n",
            "CheezIt - Original                                    138\n",
            "SunChips Multigrain - Harvest Cheddar                 131\n",
            "Robert Irvine's - Fit Crunch -  Chocolate Pea         121\n",
            "Oreo Mini                                             109\n",
            "SunChips Multigrain - Salsa                           105\n",
            "Takis - Hot Chilli Pepper & Lime                       96\n",
            "Goldfish Baked - Cheddar                               91\n",
            "Cheetos - Fleming Hot Crunchy                          83\n",
            "Funyuns - Flaming Hot                                  82\n",
            "SunChips Multigrain - Original                         72\n",
            "Cheetos Flaming Hot Limon Crunchy                      64\n",
            "Chesters Fries Flaming hot                             59\n",
            "Kinder - Bueno - Crispy Creamy Chocolate               59\n",
            "Good Health Veggie Stix - Sea Salt                     53\n",
            "Oreo Single Server 6 ct                                53\n",
            "Miss Vickie's Potato Chip - Sea Salt & Vinega          53\n",
            "Miss Vickie's Potato Chip - Jalapeno                   50\n",
            "Takis FUGEO mini                                       48\n",
            "Miss Vickie's Potato Chip - Smokehouse BBQ             47\n",
            "Lays - Classic                                         46\n",
            "Pop Corners - Sea Salt                                 44\n",
            "Pop Corners - Kettle Corn                              43\n",
            "Pop Corners - White Cheddar                            41\n",
            "Miss Vickie's Potato Chip - Sea Salt Original          40\n",
            "Nature's Bakery Fig Bar - Blueberry                    39\n",
            "Miss Vickie's Potato Chip - Lime & Cracked Pe          38\n",
            "Fritos - Original                                      37\n",
            "CheezIt - Double Cheese                                37\n",
            "Keto Bar - Creamy Peanut Butter Chocolate              35\n",
            "Seapoint Farms Dry Roasted Edamame - Wasabi            34\n",
            "RXBAR - Protein Bar - Peanut Butter                    34\n",
            "Jacks Links Bar Beef Strip                             33\n",
            "Belvita Snack Packs - Blueberry                        32\n",
            "CheezIt - White Cheddar                                32\n",
            "Nutri Grain Apple Cinnamon                             32\n",
            "Newtons Fig Bar                                        32\n",
            "Nature's Bakery Fig Bar - Raspberry                    31\n",
            "Pop Corners - Spicy Queso                              30\n",
            "Lenny & Larrys - Chocolate Chip                        29\n",
            "CheezIt - Cheddar Sour Cream and Onion                 29\n",
            "Doritos Nacho Cheese                                   28\n",
            "Doritos Famin Hot Nacho                                28\n",
            "Genius Keto Bar - Chocolate Dream                      28\n",
            "Cheetos Puffs                                          28\n",
            "Lenny & Larrys - SnickerDoodle                         26\n",
            "Good Health Veggie Stix - Zesty Ranch                  26\n"
          ]
        }
      ]
    },
    {
      "cell_type": "markdown",
      "source": [
        "##### **Bottom Food Products** | Less than 25 units sold to date\n",
        "These food products are not very popular and should be reconsidered. The products with only single digit sales should be removed, and products with double digit sales can be rotated in at specific locations upon request or if supply is short for other products."
      ],
      "metadata": {
        "id": "mgdJxweVnlvY"
      }
    },
    {
      "cell_type": "code",
      "source": [
        "food_less_than_25 = food_count_overview[food_count_overview['Total Sold'] < 25]\n",
        "print(food_less_than_25)"
      ],
      "metadata": {
        "colab": {
          "base_uri": "https://localhost:8080/"
        },
        "id": "Swlw7N1VmqYq",
        "outputId": "701f234e-5f09-4d6f-c661-b8f2689366c3"
      },
      "execution_count": null,
      "outputs": [
        {
          "output_type": "stream",
          "name": "stdout",
          "text": [
            "                                               Total Sold\n",
            "Product                                                  \n",
            "Ritz Bits Cheese                                       23\n",
            "Mini Chips Ahoy                                        23\n",
            "Cheetos - Crunchy                                      23\n",
            "Popchips Potato - Sea Salt                             22\n",
            "Snyder's of Hanover Pretzel Pieces - Honey Mu          20\n",
            "...                                                   ...\n",
            "Nature's Garden Trail Mix - Heart Healthy Mix           1\n",
            "Nature's Garden Trail Mix - Omega 3                     1\n",
            "Nature's Valley Chewy Granola Bar - Fruit & N           1\n",
            "Nature's Valley Crunchy Granola Bar - Oats &            1\n",
            "Larabar - Peanut Butter chocolate Chip                  1\n",
            "\n",
            "[62 rows x 1 columns]\n"
          ]
        }
      ]
    },
    {
      "cell_type": "markdown",
      "source": [
        "#### **Location Analysis**\n",
        "> Location matters...but the products demanded changes by location"
      ],
      "metadata": {
        "id": "J5J7Y7p_om3r"
      }
    },
    {
      "cell_type": "code",
      "source": [
        "# revenue overview for all locations\n",
        "# wine_df.groupby(['quality', 'color'], as_index=False)['pH'].mean()\n",
        "\n",
        "location_overview = df.groupby(['Location', 'Category']).sum()[['RPrice']]\n",
        "location_overview['Total Revenue'] = location_overview['RPrice']\n",
        "location_overview = location_overview.drop(['RPrice'], axis=1)\n",
        "location_overview = location_overview.sort_values(by = 'Total Revenue', ascending=False)\n",
        "print(location_overview)\n",
        "\n",
        "# shows avg revenue but I want total revenue \n",
        "# issue with groups \n",
        "sns.barplot(x = 'Location', y = 'RPrice', data = df)"
      ],
      "metadata": {
        "colab": {
          "base_uri": "https://localhost:8080/",
          "height": 597
        },
        "id": "lq51eI4HGCHQ",
        "outputId": "52449618-7710-4c66-cbc7-3eaccd5f1ce6"
      },
      "execution_count": null,
      "outputs": [
        {
          "output_type": "stream",
          "name": "stdout",
          "text": [
            "                                  Total Revenue\n",
            "Location          Category                     \n",
            "GuttenPlans       Carbonated            2241.00\n",
            "EB Public Library Food                  1997.75\n",
            "GuttenPlans       Food                  1972.25\n",
            "Earle Asphalt     Food                  1005.00\n",
            "Brunswick Sq Mall Food                   860.25\n",
            "EB Public Library Non Carbonated         746.00\n",
            "GuttenPlans       Non Carbonated         565.00\n",
            "Brunswick Sq Mall Water                  533.50\n",
            "EB Public Library Carbonated             524.00\n",
            "Brunswick Sq Mall Carbonated             521.00\n",
            "                  Non Carbonated         436.25\n",
            "EB Public Library Water                  326.75\n",
            "Earle Asphalt     Carbonated              85.50\n",
            "                  Non Carbonated          64.00\n",
            "                  Water                   33.00\n"
          ]
        },
        {
          "output_type": "execute_result",
          "data": {
            "text/plain": [
              "<matplotlib.axes._subplots.AxesSubplot at 0x7fc47be25280>"
            ]
          },
          "metadata": {},
          "execution_count": 22
        },
        {
          "output_type": "display_data",
          "data": {
            "text/plain": [
              "<Figure size 432x288 with 1 Axes>"
            ],
            "image/png": "[encoded data removed]"
          },
          "metadata": {}
        }
      ]
    },
    {
      "cell_type": "markdown",
      "source": [
        "##### **Brunswick Sq Mall** | 2 Vending Machines\n",
        "Brunswick Sq Mall - Mall with average foot traffic 7 days a week. Vending machine(s): \n",
        "> - BSQ Mall x1364\n",
        "> - Zales & BSQ Mall x1366 - ATT"
      ],
      "metadata": {
        "id": "_gFI8skupgZM"
      }
    },
    {
      "cell_type": "code",
      "source": [
        "# filter for Brunswick Sq Mall and get total revenue\n",
        "mall = df.loc[df['Location'] == 'Brunswick Sq Mall']\n",
        "mall_overview = mall.groupby(\"Category\").sum()[['RPrice']]\n",
        "mall_overview['Total Revenue'] = mall_overview['RPrice']\n",
        "mall_overview = mall_overview.drop(['RPrice'], axis=1)\n",
        "mall_overview = mall_overview.sort_values(by = 'Total Revenue', ascending=False)\n",
        "print(mall_overview)\n",
        "\n",
        "# get counts for each category (then calculate percent of total)\n",
        "mall_count_overview = mall.groupby('Category').count()[['RPrice']]\n",
        "mall_count_overview['Percent of Sales'] = round(mall_count_overview['RPrice'] / 1226 * 100,2)\n",
        "mall_count_overview = mall_count_overview.drop(['RPrice'], axis=1)\n",
        "mall_count_overview = mall_count_overview.sort_values(by = 'Percent of Sales', ascending=False)\n",
        "\n",
        "print(mall_count_overview)"
      ],
      "metadata": {
        "colab": {
          "base_uri": "https://localhost:8080/"
        },
        "id": "oASeh605ouMo",
        "outputId": "05782909-8f8c-4ff2-c7f5-d106503a8ee6"
      },
      "execution_count": null,
      "outputs": [
        {
          "output_type": "stream",
          "name": "stdout",
          "text": [
            "                Total Revenue\n",
            "Category                     \n",
            "Food                   860.25\n",
            "Water                  533.50\n",
            "Carbonated             521.00\n",
            "Non Carbonated         436.25\n",
            "                Percent of Sales\n",
            "Category                        \n",
            "Food                       43.88\n",
            "Water                      23.33\n",
            "Carbonated                 18.03\n",
            "Non Carbonated             14.76\n"
          ]
        }
      ]
    },
    {
      "cell_type": "markdown",
      "source": [
        "#### **Optimizing Brunswick Sq Mall**\n",
        "The mall location makes up over half it's sales in **food** and **water**, so the stock of the vending machine should represent this. \n",
        "> - More food and water options, with the carbonated and non-carbonated options only being the most popular overall\n",
        "\n",
        "Brunswick Mall has 2 vending machines, but does it **really need both**? \n",
        "\n",
        "First, I want to see if there is any difference in the product categories, as sometimes vending machines may have only drinks, only snacks or both..."
      ],
      "metadata": {
        "id": "U7SVbYjr88ML"
      }
    },
    {
      "cell_type": "code",
      "source": [
        "# create data frame for mall machine 'ATT'\n",
        "mall_att = mall.loc[mall['Machine'] == 'BSQ Mall x1366 - ATT']\n",
        "mall_att = mall_att.groupby(\"Category\").sum()[['RPrice']]\n",
        "mall_att['Total Revenue'] = mall_att['RPrice']\n",
        "mall_att = mall_att.drop(['RPrice'], axis=1)\n",
        "mall_att = mall_att.sort_values(by = 'Total Revenue', ascending=False)\n",
        "print(mall_att)\n",
        "\n",
        "# create data frame for mall machine 'Zales'\n",
        "mall_zales = mall.loc[mall['Machine'] == 'BSQ Mall x1364 - Zales']\n",
        "mall_zales = mall_zales.groupby(\"Category\").sum()[['RPrice']]\n",
        "mall_zales['Total Revenue'] = mall_zales['RPrice']\n",
        "mall_zales = mall_zales.drop(['RPrice'], axis=1)\n",
        "mall_zales = mall_zales.sort_values(by = 'Total Revenue', ascending=False)\n",
        "print(mall_zales)"
      ],
      "metadata": {
        "colab": {
          "base_uri": "https://localhost:8080/"
        },
        "id": "X5XNL01o9lJz",
        "outputId": "f6a66084-8002-4133-c87f-0b02f8c102b0"
      },
      "execution_count": null,
      "outputs": [
        {
          "output_type": "stream",
          "name": "stdout",
          "text": [
            "                Total Revenue\n",
            "Category                     \n",
            "Food                   345.25\n",
            "Carbonated             284.75\n",
            "Water                  228.25\n",
            "Non Carbonated         200.50\n",
            "                Total Revenue\n",
            "Category                     \n",
            "Food                   515.00\n",
            "Water                  305.25\n",
            "Carbonated             236.25\n",
            "Non Carbonated         235.75\n"
          ]
        }
      ]
    },
    {
      "cell_type": "markdown",
      "source": [
        "Both vending machines have all 4 categories, and low revenue, *but which one should they keep?*"
      ],
      "metadata": {
        "id": "4Rv6ITcU_cwR"
      }
    },
    {
      "cell_type": "markdown",
      "source": [
        "### Hypothesis #4\n",
        "The average product revenue for the mall 'ATT' machine is **equal to** the average product revenue for the mall 'Zales' machine.\n",
        "\n",
        "The machine with the highest average revenue per product will be the one the mall keeps..."
      ],
      "metadata": {
        "id": "43ZOvyy1_bHP"
      }
    },
    {
      "cell_type": "code",
      "source": [
        "# create data frames for carbonated and water categories\n",
        "df_mall_a = df.loc[df['Machine'] == 'BSQ Mall x1366 - ATT']\n",
        "df_mall_z = df.loc[df['Machine'] == 'BSQ Mall x1364 - Zales']\n",
        "\n",
        "# conduct t-test to test for signif\n",
        "tc4, pc4 = ttest_ind(df_mall_a['RPrice'], df_mall_z['RPrice'])\n",
        "print(tc4, pc4)\n",
        "\n",
        "# context \n",
        "from numpy import mean\n",
        "t_4 = df[df['Machine'].isin(['BSQ Mall x1366 - ATT', 'BSQ Mall x1364 - Zales'])]\n",
        "h_4 = sns.barplot(x = 'Machine', y = 'RPrice', data = t_4, estimator = mean)\n",
        "print(h_4)"
      ],
      "metadata": {
        "colab": {
          "base_uri": "https://localhost:8080/",
          "height": 320
        },
        "id": "PZNSGJYDBElm",
        "outputId": "68bde5af-ef92-47e4-ea87-5c77c37e07d8"
      },
      "execution_count": null,
      "outputs": [
        {
          "output_type": "stream",
          "name": "stdout",
          "text": [
            "7.880272278936319 7.172869260118651e-15\n",
            "AxesSubplot(0.125,0.125;0.775x0.755)\n"
          ]
        },
        {
          "output_type": "display_data",
          "data": {
            "text/plain": [
              "<Figure size 432x288 with 1 Axes>"
            ],
            "image/png": "[encoded data removed]"
          },
          "metadata": {}
        }
      ]
    },
    {
      "cell_type": "markdown",
      "source": [
        "### Hypothesis #4 Summary\n",
        "- The above bar chart shows the average revenue per product for each vending machines at the mall location\n",
        "- **Hypothesis #4 is rejected** as the average revenue per product is **not the same** for each machine, there is a real difference.\n",
        " - It is a significant difference at a 95% confidence level | p < .01 \n",
        "\n",
        "<br>\n",
        "The mall should keep the 'ATT' machine and the 'Zales' machine can be removed and put at another location. "
      ],
      "metadata": {
        "id": "YTVEcdQACRU-"
      }
    },
    {
      "cell_type": "markdown",
      "source": [
        "##### **Earle Asphalt** | 1 Vending Machine\n",
        "Earle Asphalt - A construction engineering firm that operates 5 days a week. Vending machine:\n",
        "> - Earle Asphalt x1371"
      ],
      "metadata": {
        "id": "EnDCPPnHpqiS"
      }
    },
    {
      "cell_type": "code",
      "source": [
        "# filter for Earle Asphalt and get total revenue\n",
        "ea = df.loc[df['Location'] == 'Earle Asphalt']\n",
        "ea_overview = ea.groupby(\"Category\").sum()[['RPrice']]\n",
        "ea_overview['Total Revenue'] = ea_overview['RPrice']\n",
        "ea_overview = ea_overview.drop(['RPrice'], axis=1)\n",
        "ea_overview = ea_overview.sort_values(by = 'Total Revenue', ascending=False)\n",
        "print(ea_overview)\n",
        "\n",
        "# get counts for each category (then calculate percent of total)\n",
        "ea_count_overview = ea.groupby('Category').count()[['RPrice']]\n",
        "ea_count_overview['Percent of Sales'] = round(ea_count_overview['RPrice'] / 676 * 100,2)\n",
        "ea_count_overview = ea_count_overview.drop(['RPrice'], axis=1)\n",
        "ea_count_overview = ea_count_overview.sort_values(by = 'Percent of Sales', ascending=False)\n",
        "\n",
        "print(ea_count_overview)"
      ],
      "metadata": {
        "colab": {
          "base_uri": "https://localhost:8080/"
        },
        "id": "FD8ehKv9qIWd",
        "outputId": "465cd2fc-5fb0-4f64-bf1e-8238bedf8a60"
      },
      "execution_count": null,
      "outputs": [
        {
          "output_type": "stream",
          "name": "stdout",
          "text": [
            "                Total Revenue\n",
            "Category                     \n",
            "Food                   1005.0\n",
            "Carbonated               85.5\n",
            "Non Carbonated           64.0\n",
            "Water                    33.0\n",
            "                Percent of Sales\n",
            "Category                        \n",
            "Food                       87.43\n",
            "Carbonated                  6.36\n",
            "Non Carbonated              4.14\n",
            "Water                       2.07\n"
          ]
        }
      ]
    },
    {
      "cell_type": "markdown",
      "source": [
        "#### **Optimizing Earle Asphalt**\n",
        "The Earle Asphalt location makes up the majority of its sales in **food**, with over 87% of sales being food products. Thus, the stock of the vending machine should represent this. \n",
        "> - Majority of options should be food, with the water, carbonated and non-carbonated options only being the most popular for this location"
      ],
      "metadata": {
        "id": "PoTqp6khDnsy"
      }
    },
    {
      "cell_type": "markdown",
      "source": [
        "##### **Gutten Plans** | 1 Vending Machine\n",
        "Gutten Plans - Frozen dough specialist company that operates 24/5. Vending machine:\n",
        "> - GuttenPlans x1367"
      ],
      "metadata": {
        "id": "9zhWNcuQrFEH"
      }
    },
    {
      "cell_type": "code",
      "source": [
        "# filter for GuttenPlans and get total revenue\n",
        "gp = df.loc[df['Location'] == 'GuttenPlans']\n",
        "gp_overview = gp.groupby(\"Category\").sum()[['RPrice']]\n",
        "gp_overview['Total Revenue'] = gp_overview['RPrice']\n",
        "gp_overview = gp_overview.drop(['RPrice'], axis=1)\n",
        "gp_overview = gp_overview.sort_values(by = 'Total Revenue', ascending=False)\n",
        "print(gp_overview)\n",
        "\n",
        "# get counts for each category (then calculate percent of total)\n",
        "gp_count_overview = gp.groupby('Category').count()[['RPrice']]\n",
        "gp_count_overview['Percent of Sales'] = round(gp_count_overview['RPrice'] / 2524 * 100,2)\n",
        "gp_count_overview = gp_count_overview.drop(['RPrice'], axis=1)\n",
        "gp_count_overview = gp_count_overview.sort_values(by = 'Percent of Sales', ascending=False)\n",
        "\n",
        "print(gp_count_overview)"
      ],
      "metadata": {
        "colab": {
          "base_uri": "https://localhost:8080/"
        },
        "id": "E-zK6KuYs_43",
        "outputId": "839f28e1-9422-4d7a-89a5-fa1f4c11376d"
      },
      "execution_count": null,
      "outputs": [
        {
          "output_type": "stream",
          "name": "stdout",
          "text": [
            "                Total Revenue\n",
            "Category                     \n",
            "Carbonated            2241.00\n",
            "Food                  1972.25\n",
            "Non Carbonated         565.00\n",
            "                Percent of Sales\n",
            "Category                        \n",
            "Food                       47.62\n",
            "Carbonated                 43.42\n",
            "Non Carbonated              8.95\n"
          ]
        }
      ]
    },
    {
      "cell_type": "markdown",
      "source": [
        "#### **Optimizing Gutten Plans**\n",
        "The Gutten Plans location makes up over 90% of its sales in **food** and **carbonated** products. Thus the stock of the vending machine should represent this. \n",
        "> - Majority of options should be food and carbonated drinks, with non-carbonated options only being the most popular for this location\n",
        "> - This location also does not sell any water products, so testing with the most popular water products can be done to see if they would be successful"
      ],
      "metadata": {
        "id": "5tvz0Td4ER2N"
      }
    },
    {
      "cell_type": "markdown",
      "source": [
        "##### **EB Public Library** | 1 Vending Machine\n",
        "Public library that has high foot traffic 5-6 days a week. Vending machine:\n",
        "> - EB Public Library x1380"
      ],
      "metadata": {
        "id": "ImqXfoGMtbL4"
      }
    },
    {
      "cell_type": "code",
      "source": [
        "# filter for EB Public Library and get total revenue\n",
        "eb = df.loc[df['Location'] == 'EB Public Library']\n",
        "eb_overview = eb.groupby('Category').sum()[['RPrice']]\n",
        "eb_overview['Total Revenue'] = eb_overview['RPrice']\n",
        "eb_overview = eb_overview.drop(['RPrice'], axis=1)\n",
        "eb_overview = eb_overview.sort_values(by = 'Total Revenue', ascending=False)\n",
        "print(eb_overview)\n",
        "\n",
        "# get counts for each category (then calculate percent of total)\n",
        "eb_count_overview = eb.groupby('Category').count()[['RPrice']]\n",
        "eb_count_overview['Percent of Sales'] = round(eb_count_overview['RPrice'] / 1834 * 100,2)\n",
        "eb_count_overview = eb_count_overview.drop(['RPrice'], axis=1)\n",
        "eb_count_overview = eb_count_overview.sort_values(by = 'Percent of Sales', ascending=False)\n",
        "\n",
        "print(eb_count_overview)"
      ],
      "metadata": {
        "colab": {
          "base_uri": "https://localhost:8080/"
        },
        "id": "rYB_yiZluqCZ",
        "outputId": "4ac6b6d7-582e-4ab9-b637-e5ed52322f18"
      },
      "execution_count": null,
      "outputs": [
        {
          "output_type": "stream",
          "name": "stdout",
          "text": [
            "                Total Revenue\n",
            "Category                     \n",
            "Food                  1997.75\n",
            "Non Carbonated         746.00\n",
            "Carbonated             524.00\n",
            "Water                  326.75\n",
            "                Percent of Sales\n",
            "Category                        \n",
            "Food                       59.81\n",
            "Carbonated                 15.21\n",
            "Non Carbonated             14.99\n",
            "Water                       9.98\n"
          ]
        }
      ]
    },
    {
      "cell_type": "markdown",
      "source": [
        "#### **Optimizing EB Public Library**\n",
        "The EB Public Library location makes up close to 60% of it's sales in **food** products. Thus the stock of the vending machine should represent this. \n",
        "> - Majority of options should be food, with a selection of popular carbonated drinks and non-carbonated product options. As for water products only the most popular should be stocked for this location.\n"
      ],
      "metadata": {
        "id": "w76PbG4IFL9j"
      }
    },
    {
      "cell_type": "markdown",
      "source": [
        "## **Recommendations**\n",
        "### Overall\n",
        "> **Space is limited** | Optimize the space used and customize the selection based on location\n",
        "> - Condense product selection to meet consumer preferences to **increase revenue**\n",
        "> - Balance selection and variety to **lower costs** for buying in bulk *(economy of scale)*\n",
        "> - Locations where people work or spend lots of time tend to have more purchases\n",
        "### Location Specific\n",
        "> **Brunswick Sq Mall**\n",
        "> - Keep only the 'ATT' vending machine\n",
        "> - Allocate the majority of space for food and water options, with the carbonated and non-carbonated options only being for the most popular overall products\n",
        ">\n",
        "> **Earle Asphalt**\n",
        "> - Majority of options should be food products\n",
        "> - Water, carbonated and non-carbonated options only being the most popular for this location\n",
        ">\n",
        "> **Gutten Plans**\n",
        "> - Majority of options should be food and carbonated drink products\n",
        ">  - Non-carbonated options should only be the most popular for this location\n",
        "> - Test with the most popular water products to see if this option is in demand\n",
        ">\n",
        "> **EB Public Library**\n",
        "> - Majority of vending products should be food\n",
        "> - Stock popular carbonated drinks and non-carbonated product options\n",
        "> - Only the most popular water products should be stocked at this location"
      ],
      "metadata": {
        "id": "ytbKxOZDjKA8"
      }
    }
  ]
}