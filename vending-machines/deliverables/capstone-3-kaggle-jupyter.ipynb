{
 "cells": [
  {
   "cell_type": "markdown",
   "id": "76026038",
   "metadata": {
    "papermill": {
     "duration": 0.013722,
     "end_time": "2022-12-09T18:39:23.620836",
     "exception": false,
     "start_time": "2022-12-09T18:39:23.607114",
     "status": "completed"
    },
    "tags": []
   },
   "source": [
    "### Thinkful Capstone 3 | **Vending Machine Analysis**\n",
    "#### *Author: Bradford (Ford) Johnson*\n",
    "##### **A special thank you to user [Aniruddh Singh](https://www.kaggle.com/awesomeasingh) for the dataset!! :)** \n",
    "<br>\n",
    "\n",
    "*My background is in sociology; thus, it is my motivation to learn about the world around me...*\n",
    "\n",
    "<br>\n",
    "\n",
    "> \"*C W Mills in the Sociological Imagination says sociology lies at the intersection of history and biography. People and the Past. What a great location. **Mills says to think sociologically is about making the familiar strange.** This requires thinking critically about the social world. Adopting a different way of seeing. Challenging conventional wisdom.*\"\n",
    ">\n",
    ">\\- Sue Watling, PhD\n",
    "\n",
    "<br>\n",
    "Vending machines are all around us in our daily lives and they provide a convenient way to get a snack or beverage. However vending machines are not just filled without a specific logic or reason. The reason I wanted to look at vending machine data was to make something that seems so familiar such as vending machines...strange. Doing so to understand this from a both a customer's and stakeholder's persepective, with a data-driven approach.\n",
    "<br>\n",
    "<br>\n",
    "<a href=\"https://www.kaggle.com/datasets/awesomeasingh/vending-machine-sales\">Click here</a> to view the dataset on Kaggle.\n",
    "<br>\n",
    "<br>\n",
    "\n",
    "### **Data Overview**\n",
    "> **Data Date Range:** `1/1/2022 - 8/31/2022`\n",
    ">\n",
    "> **Number of Vending Machines:** `5`\n",
    ">\n",
    "> **Number of Locations:** `4`\n",
    ">\n",
    "> **Number of product categories:** `4`\n",
    ">\n",
    "> **Number of products:** `162`\n",
    ">\n",
    "> **Number of transactions:** `6445`"
   ]
  },
  {
   "cell_type": "markdown",
   "id": "3cb5a222",
   "metadata": {
    "papermill": {
     "duration": 0.013668,
     "end_time": "2022-12-09T18:39:23.646708",
     "exception": false,
     "start_time": "2022-12-09T18:39:23.633040",
     "status": "completed"
    },
    "tags": []
   },
   "source": [
    "### Import Python Libraries and load data"
   ]
  },
  {
   "cell_type": "code",
   "execution_count": 1,
   "id": "e21a4b4f",
   "metadata": {
    "execution": {
     "iopub.execute_input": "2022-12-09T18:39:23.673662Z",
     "iopub.status.busy": "2022-12-09T18:39:23.672660Z",
     "iopub.status.idle": "2022-12-09T18:39:24.774711Z",
     "shell.execute_reply": "2022-12-09T18:39:24.773482Z"
    },
    "papermill": {
     "duration": 1.11902,
     "end_time": "2022-12-09T18:39:24.777724",
     "exception": false,
     "start_time": "2022-12-09T18:39:23.658704",
     "status": "completed"
    },
    "tags": []
   },
   "outputs": [],
   "source": [
    "# import libraries\n",
    "import pandas as pd\n",
    "import numpy as np\n",
    "from scipy import stats\n",
    "from scipy.stats import ttest_ind\n",
    "import seaborn as sns \n",
    "sns.set()\n",
    "import matplotlib.pyplot as plt\n",
    "# from google.colab import drive\n",
    "# drive.mount('/content/gdrive')\n",
    "\n",
    "# read csv\n",
    "# df = pd.read_csv(\"/content/gdrive/MyDrive/colab-datasets/vending_machine_sales.csv\")\n",
    "df = pd.read_csv(\"/kaggle/input/vending-machine-sales/vending_machine_sales.csv\")"
   ]
  },
  {
   "cell_type": "markdown",
   "id": "51a11a67",
   "metadata": {
    "papermill": {
     "duration": 0.012223,
     "end_time": "2022-12-09T18:39:24.802696",
     "exception": false,
     "start_time": "2022-12-09T18:39:24.790473",
     "status": "completed"
    },
    "tags": []
   },
   "source": [
    "### Global Data Cleaning"
   ]
  },
  {
   "cell_type": "code",
   "execution_count": 2,
   "id": "d8640019",
   "metadata": {
    "execution": {
     "iopub.execute_input": "2022-12-09T18:39:24.829491Z",
     "iopub.status.busy": "2022-12-09T18:39:24.829050Z",
     "iopub.status.idle": "2022-12-09T18:39:24.846139Z",
     "shell.execute_reply": "2022-12-09T18:39:24.845151Z"
    },
    "papermill": {
     "duration": 0.033385,
     "end_time": "2022-12-09T18:39:24.848863",
     "exception": false,
     "start_time": "2022-12-09T18:39:24.815478",
     "status": "completed"
    },
    "tags": []
   },
   "outputs": [],
   "source": [
    "# data cleaning\n",
    "# df.info()\n",
    "df = df.dropna()"
   ]
  },
  {
   "cell_type": "markdown",
   "id": "0a90095d",
   "metadata": {
    "papermill": {
     "duration": 0.012363,
     "end_time": "2022-12-09T18:39:24.873471",
     "exception": false,
     "start_time": "2022-12-09T18:39:24.861108",
     "status": "completed"
    },
    "tags": []
   },
   "source": [
    "### Data Overview"
   ]
  },
  {
   "cell_type": "code",
   "execution_count": 3,
   "id": "ad52fcb7",
   "metadata": {
    "execution": {
     "iopub.execute_input": "2022-12-09T18:39:24.900041Z",
     "iopub.status.busy": "2022-12-09T18:39:24.899401Z",
     "iopub.status.idle": "2022-12-09T18:39:24.924010Z",
     "shell.execute_reply": "2022-12-09T18:39:24.922816Z"
    },
    "papermill": {
     "duration": 0.041002,
     "end_time": "2022-12-09T18:39:24.926714",
     "exception": false,
     "start_time": "2022-12-09T18:39:24.885712",
     "status": "completed"
    },
    "tags": []
   },
   "outputs": [
    {
     "name": "stdout",
     "output_type": "stream",
     "text": [
      "                Total Revenue\n",
      "Category                     \n",
      "Food                  5835.25\n",
      "Carbonated            3371.50\n",
      "Non Carbonated        1811.25\n",
      "Water                  893.25\n"
     ]
    }
   ],
   "source": [
    "total_overview = df.groupby(\"Category\").sum()[['RPrice']]\n",
    "total_overview['Total Revenue'] = total_overview['RPrice']\n",
    "total_overview = total_overview.drop(['RPrice'], axis=1)\n",
    "total_overview = total_overview.sort_values(by = 'Total Revenue', ascending=False)\n",
    "print(total_overview)"
   ]
  },
  {
   "cell_type": "markdown",
   "id": "c52bf7a6",
   "metadata": {
    "papermill": {
     "duration": 0.011933,
     "end_time": "2022-12-09T18:39:24.951177",
     "exception": false,
     "start_time": "2022-12-09T18:39:24.939244",
     "status": "completed"
    },
    "tags": []
   },
   "source": [
    "## Findings"
   ]
  },
  {
   "cell_type": "markdown",
   "id": "980bea09",
   "metadata": {
    "papermill": {
     "duration": 0.011958,
     "end_time": "2022-12-09T18:39:24.975798",
     "exception": false,
     "start_time": "2022-12-09T18:39:24.963840",
     "status": "completed"
    },
    "tags": []
   },
   "source": [
    "### Hypothesis #1\n",
    "The average revenue per drink for carbonated drinks is **equal to** the average revenue per drink for non-carbonated drinks.\n",
    "> Assuming there is equal demand (purchases) among the two categories"
   ]
  },
  {
   "cell_type": "code",
   "execution_count": 4,
   "id": "d1646440",
   "metadata": {
    "execution": {
     "iopub.execute_input": "2022-12-09T18:39:25.002539Z",
     "iopub.status.busy": "2022-12-09T18:39:25.001861Z",
     "iopub.status.idle": "2022-12-09T18:39:25.279501Z",
     "shell.execute_reply": "2022-12-09T18:39:25.278250Z"
    },
    "papermill": {
     "duration": 0.29405,
     "end_time": "2022-12-09T18:39:25.282122",
     "exception": false,
     "start_time": "2022-12-09T18:39:24.988072",
     "status": "completed"
    },
    "tags": []
   },
   "outputs": [
    {
     "name": "stdout",
     "output_type": "stream",
     "text": [
      "14.522678813161257 7.95456326451125e-46\n",
      "AxesSubplot(0.125,0.125;0.775x0.755)\n"
     ]
    },
    {
     "data": {
      "image/png": "[encoded data removed]",
      "text/plain": [
       "<Figure size 432x288 with 1 Axes>"
      ]
     },
     "metadata": {},
     "output_type": "display_data"
    }
   ],
   "source": [
    "# create data frames for carbonated and non-carbonated categories\n",
    "df_carb = df.loc[df['Category'] == 'Carbonated']\n",
    "df_noncarb = df.loc[df['Category'] == 'Non Carbonated']\n",
    "\n",
    "# conduct t-test to test for signif\n",
    "tc, pc = ttest_ind(df_noncarb['RPrice'], df_carb['RPrice'])\n",
    "print(tc, pc)\n",
    "\n",
    "# context \n",
    "from numpy import mean\n",
    "t_1 = df[df['Category'].isin(['Carbonated', 'Non Carbonated'])]\n",
    "h_1 = sns.barplot(x = 'Category', y = 'RPrice', data = t_1, estimator = mean)\n",
    "print(h_1)"
   ]
  },
  {
   "cell_type": "markdown",
   "id": "d2dddb1b",
   "metadata": {
    "papermill": {
     "duration": 0.012686,
     "end_time": "2022-12-09T18:39:25.308316",
     "exception": false,
     "start_time": "2022-12-09T18:39:25.295630",
     "status": "completed"
    },
    "tags": []
   },
   "source": [
    "### Hypothesis #1 Summary\n",
    "- The above bar chart shows the average revenue per product for both carbonated and non-carbonated beverages\n",
    "- However, the non-carbonated drinks cost more on average than their carbonated counterparts, so therefore I **reject hypothesis #1**\n",
    " - This is a significant difference at a 95% confidence level | p < .01 \n",
    "\n",
    "<br>\n",
    "Because non-carbonated drinks are more expensive but have less total revenue than carbonated drinks that would mean carbonated drinks are bought more often..."
   ]
  },
  {
   "cell_type": "code",
   "execution_count": 5,
   "id": "e565f51e",
   "metadata": {
    "execution": {
     "iopub.execute_input": "2022-12-09T18:39:25.336410Z",
     "iopub.status.busy": "2022-12-09T18:39:25.335511Z",
     "iopub.status.idle": "2022-12-09T18:39:25.351860Z",
     "shell.execute_reply": "2022-12-09T18:39:25.350375Z"
    },
    "papermill": {
     "duration": 0.033238,
     "end_time": "2022-12-09T18:39:25.354739",
     "exception": false,
     "start_time": "2022-12-09T18:39:25.321501",
     "status": "completed"
    },
    "tags": []
   },
   "outputs": [
    {
     "name": "stdout",
     "output_type": "stream",
     "text": [
      "                Total Sold\n",
      "Category                  \n",
      "Carbonated            1639\n",
      "Non Carbonated         710\n"
     ]
    }
   ],
   "source": [
    "# get counts for carbonated and non-carbonated drinks\n",
    "count_overview = t_1.groupby(\"Category\").count()[['RPrice']]\n",
    "count_overview['Total Sold'] = count_overview['RPrice']\n",
    "count_overview = count_overview.drop(['RPrice'], axis=1)\n",
    "print(count_overview)"
   ]
  },
  {
   "cell_type": "markdown",
   "id": "28766acf",
   "metadata": {
    "papermill": {
     "duration": 0.012435,
     "end_time": "2022-12-09T18:39:25.380018",
     "exception": false,
     "start_time": "2022-12-09T18:39:25.367583",
     "status": "completed"
    },
    "tags": []
   },
   "source": [
    "#### **Carbonated Vs Non-carbonated**\n",
    "We know that non-carbonated on average makes more revenue than carbonated drinks, but carbonated drinks are sold more. With many different options, and limited space for drinks in the vending machines, we need to optimize the product selection.\n",
    "<br>\n",
    "\n",
    "*This begs the question...* \n",
    "\n",
    "**What are the most popular carbonated drinks out of the 16 options?** \n",
    "> I can easily find this out by looking at only carbonated drinks and sorting this df descending by count"
   ]
  },
  {
   "cell_type": "markdown",
   "id": "383c8899",
   "metadata": {
    "papermill": {
     "duration": 0.012491,
     "end_time": "2022-12-09T18:39:25.405281",
     "exception": false,
     "start_time": "2022-12-09T18:39:25.392790",
     "status": "completed"
    },
    "tags": []
   },
   "source": [
    "##### **Carbonated Drinks** | 16 Total Products\n"
   ]
  },
  {
   "cell_type": "code",
   "execution_count": 6,
   "id": "3972a0d3",
   "metadata": {
    "execution": {
     "iopub.execute_input": "2022-12-09T18:39:25.433979Z",
     "iopub.status.busy": "2022-12-09T18:39:25.432740Z",
     "iopub.status.idle": "2022-12-09T18:39:25.450322Z",
     "shell.execute_reply": "2022-12-09T18:39:25.448988Z"
    },
    "papermill": {
     "duration": 0.034411,
     "end_time": "2022-12-09T18:39:25.452948",
     "exception": false,
     "start_time": "2022-12-09T18:39:25.418537",
     "status": "completed"
    },
    "tags": []
   },
   "outputs": [
    {
     "name": "stdout",
     "output_type": "stream",
     "text": [
      "                                               Total Sold\n",
      "Product                                                  \n",
      "Coca Cola - Zero Sugar                                517\n",
      "Monster Energy Original                               385\n",
      "Sunkist Soda - Orange                                 217\n",
      "Red Bull - Original                                   157\n",
      "Coca Cola - Regular                                   155\n",
      "Starbucks Refresher - Real Coconut Water               53\n",
      "Spindrift - Sparkling Water - Pineapple                51\n",
      "Keto Krisp - Almond Butter                             27\n",
      "Spindrift - Sparkling Water  Lime                      22\n",
      "Red Bull - Energy Drink - Sugar Free                   21\n",
      "Keto Krisp - Almond/Chocolate                          15\n",
      "Bubly - Cherry                                          5\n",
      "Bubly - Mango                                           5\n",
      "Monster Energy  Zero Ultra                              4\n",
      "S. Pellegrino Essenza Mineral Water - Blood O           3\n",
      "Remedy Kombucha - Ginger Lemon                          2\n"
     ]
    }
   ],
   "source": [
    "# create df filtered for only carbonated drinks\n",
    "carbonated_df = df.loc[df['Category'] == 'Carbonated']\n",
    "\n",
    "# get counts for each product \n",
    "carb_count_overview = carbonated_df.groupby('Product').count()[['RPrice']]\n",
    "carb_count_overview['Total Sold'] = carb_count_overview['RPrice']\n",
    "carb_count_overview = carb_count_overview.drop(['RPrice'], axis=1)\n",
    "carb_count_overview = carb_count_overview.sort_values(by = 'Total Sold', ascending=False)\n",
    "\n",
    "# all total options (16 total)\n",
    "print(carb_count_overview)\n",
    "\n",
    "carb_top_5 = carb_count_overview.head()\n",
    "\n",
    "carb_bottom_11 = carb_count_overview.tail(11)"
   ]
  },
  {
   "cell_type": "markdown",
   "id": "20e52144",
   "metadata": {
    "papermill": {
     "duration": 0.012581,
     "end_time": "2022-12-09T18:39:25.478525",
     "exception": false,
     "start_time": "2022-12-09T18:39:25.465944",
     "status": "completed"
    },
    "tags": []
   },
   "source": [
    "##### **Top 5 Carbonated Drinks Overall**\n",
    "\n",
    "These are the top 5 carbonated drinks and they also all have over 100 purchases, and they are the main carbonated drinks you should be stocking in these locations"
   ]
  },
  {
   "cell_type": "code",
   "execution_count": 7,
   "id": "55e2059f",
   "metadata": {
    "execution": {
     "iopub.execute_input": "2022-12-09T18:39:25.506714Z",
     "iopub.status.busy": "2022-12-09T18:39:25.505979Z",
     "iopub.status.idle": "2022-12-09T18:39:25.513444Z",
     "shell.execute_reply": "2022-12-09T18:39:25.511784Z"
    },
    "papermill": {
     "duration": 0.025626,
     "end_time": "2022-12-09T18:39:25.517073",
     "exception": false,
     "start_time": "2022-12-09T18:39:25.491447",
     "status": "completed"
    },
    "tags": []
   },
   "outputs": [
    {
     "name": "stdout",
     "output_type": "stream",
     "text": [
      "                         Total Sold\n",
      "Product                            \n",
      "Coca Cola - Zero Sugar          517\n",
      "Monster Energy Original         385\n",
      "Sunkist Soda - Orange           217\n",
      "Red Bull - Original             157\n",
      "Coca Cola - Regular             155\n"
     ]
    }
   ],
   "source": [
    "print(carb_top_5)"
   ]
  },
  {
   "cell_type": "markdown",
   "id": "aa14bf7f",
   "metadata": {
    "papermill": {
     "duration": 0.012751,
     "end_time": "2022-12-09T18:39:25.543700",
     "exception": false,
     "start_time": "2022-12-09T18:39:25.530949",
     "status": "completed"
    },
    "tags": []
   },
   "source": [
    "##### **Bottom 11 Carbonated Drinks Overall**\n",
    "These are the drinks that should be reconsidered, especially the ones with less than 30 sold, as they are taking up space in the machines and not frequently bought."
   ]
  },
  {
   "cell_type": "code",
   "execution_count": 8,
   "id": "adfa0c5b",
   "metadata": {
    "execution": {
     "iopub.execute_input": "2022-12-09T18:39:25.571835Z",
     "iopub.status.busy": "2022-12-09T18:39:25.571439Z",
     "iopub.status.idle": "2022-12-09T18:39:25.578270Z",
     "shell.execute_reply": "2022-12-09T18:39:25.577417Z"
    },
    "papermill": {
     "duration": 0.023682,
     "end_time": "2022-12-09T18:39:25.580939",
     "exception": false,
     "start_time": "2022-12-09T18:39:25.557257",
     "status": "completed"
    },
    "tags": []
   },
   "outputs": [
    {
     "name": "stdout",
     "output_type": "stream",
     "text": [
      "                                               Total Sold\n",
      "Product                                                  \n",
      "Starbucks Refresher - Real Coconut Water               53\n",
      "Spindrift - Sparkling Water - Pineapple                51\n",
      "Keto Krisp - Almond Butter                             27\n",
      "Spindrift - Sparkling Water  Lime                      22\n",
      "Red Bull - Energy Drink - Sugar Free                   21\n",
      "Keto Krisp - Almond/Chocolate                          15\n",
      "Bubly - Cherry                                          5\n",
      "Bubly - Mango                                           5\n",
      "Monster Energy  Zero Ultra                              4\n",
      "S. Pellegrino Essenza Mineral Water - Blood O           3\n",
      "Remedy Kombucha - Ginger Lemon                          2\n"
     ]
    }
   ],
   "source": [
    "print(carb_bottom_11)"
   ]
  },
  {
   "cell_type": "markdown",
   "id": "c6b39ed3",
   "metadata": {
    "papermill": {
     "duration": 0.012867,
     "end_time": "2022-12-09T18:39:25.607739",
     "exception": false,
     "start_time": "2022-12-09T18:39:25.594872",
     "status": "completed"
    },
    "tags": []
   },
   "source": [
    "##### **Non-carbonated Drinks** | 24 Total Products"
   ]
  },
  {
   "cell_type": "code",
   "execution_count": 9,
   "id": "820c5621",
   "metadata": {
    "execution": {
     "iopub.execute_input": "2022-12-09T18:39:25.636107Z",
     "iopub.status.busy": "2022-12-09T18:39:25.635686Z",
     "iopub.status.idle": "2022-12-09T18:39:25.652849Z",
     "shell.execute_reply": "2022-12-09T18:39:25.651864Z"
    },
    "papermill": {
     "duration": 0.033981,
     "end_time": "2022-12-09T18:39:25.655332",
     "exception": false,
     "start_time": "2022-12-09T18:39:25.621351",
     "status": "completed"
    },
    "tags": []
   },
   "outputs": [
    {
     "name": "stdout",
     "output_type": "stream",
     "text": [
      "                                            Total Sold\n",
      "Product                                               \n",
      "Snapple Diet Tea - Peach Tea                       109\n",
      "Snapple Diet Tea - Lemon                            88\n",
      "Snapple Tea - Raspberry                             79\n",
      "Starbucks Doubleshot Energy - Mocha                 74\n",
      "Iberia Coconut Water                                72\n",
      "Snapple Tea - Lemon                                 51\n",
      "Bai Antioxidant - Tanzania Lemon Super Tea          33\n",
      "Snapple Tea - Peach                                 31\n",
      "Snapple Diet Tea - Raspberry                        28\n",
      "V8 Vegetable Juice - Original                       27\n",
      "BodyArmor  LYTE - Blueberry Pomegranate             23\n",
      "Bai Antioxidant - Molokai Coconut                   12\n",
      "Bai Antioxidant - Zambia Bingcherry                 11\n",
      "Bai Lemonade - Burundi Blueberry                    10\n",
      "Honest Tea - Berry Hibiscus                         10\n",
      "Bai Antioxidant - Kupang strawberry kiwi            10\n",
      "Snapple Lemonade - black berry                       8\n",
      "Snapple Lemonade - pineapple                         8\n",
      "Snapple Lemonade - watermelon                        8\n",
      "Zevia Zero Calorie Energy - Mango Ginger             6\n",
      "Bai Antioxidant - Kula Watermelon                    5\n",
      "Bai Antioxidant - Brasilia BB                        4\n",
      "Spindrift - Sparkling Water Raspberry Lime           2\n",
      "Zevia Organic Tea - Peach                            1\n"
     ]
    }
   ],
   "source": [
    "# create df filtered for only non-carbonated drinks\n",
    "non_carbonated_df = df.loc[df['Category'] == 'Non Carbonated']\n",
    "\n",
    "# get counts for each product \n",
    "non_carb_count_overview = non_carbonated_df.groupby('Product').count()[['RPrice']]\n",
    "non_carb_count_overview['Total Sold'] = non_carb_count_overview['RPrice']\n",
    "non_carb_count_overview = non_carb_count_overview.drop(['RPrice'], axis=1)\n",
    "non_carb_count_overview = non_carb_count_overview.sort_values(by = 'Total Sold', ascending=False)\n",
    "\n",
    "# all total options\n",
    "print(non_carb_count_overview)"
   ]
  },
  {
   "cell_type": "markdown",
   "id": "61f121e5",
   "metadata": {
    "papermill": {
     "duration": 0.012908,
     "end_time": "2022-12-09T18:39:25.681546",
     "exception": false,
     "start_time": "2022-12-09T18:39:25.668638",
     "status": "completed"
    },
    "tags": []
   },
   "source": [
    "##### **Top 5 Non-Carbonated Drinks Overall**\n",
    "\n",
    "These are the top 5 non-carbonated drinks and they also all have over 70 purchases, and they are the main non-carbonated drinks you should be stocking in these locations"
   ]
  },
  {
   "cell_type": "code",
   "execution_count": 10,
   "id": "e26fc94c",
   "metadata": {
    "execution": {
     "iopub.execute_input": "2022-12-09T18:39:25.710653Z",
     "iopub.status.busy": "2022-12-09T18:39:25.709546Z",
     "iopub.status.idle": "2022-12-09T18:39:25.717383Z",
     "shell.execute_reply": "2022-12-09T18:39:25.716141Z"
    },
    "papermill": {
     "duration": 0.025049,
     "end_time": "2022-12-09T18:39:25.720088",
     "exception": false,
     "start_time": "2022-12-09T18:39:25.695039",
     "status": "completed"
    },
    "tags": []
   },
   "outputs": [
    {
     "name": "stdout",
     "output_type": "stream",
     "text": [
      "                                     Total Sold\n",
      "Product                                        \n",
      "Snapple Diet Tea - Peach Tea                109\n",
      "Snapple Diet Tea - Lemon                     88\n",
      "Snapple Tea - Raspberry                      79\n",
      "Starbucks Doubleshot Energy - Mocha          74\n",
      "Iberia Coconut Water                         72\n"
     ]
    }
   ],
   "source": [
    "print(non_carb_count_overview.head())"
   ]
  },
  {
   "cell_type": "markdown",
   "id": "f805bd9a",
   "metadata": {
    "papermill": {
     "duration": 0.012758,
     "end_time": "2022-12-09T18:39:25.745958",
     "exception": false,
     "start_time": "2022-12-09T18:39:25.733200",
     "status": "completed"
    },
    "tags": []
   },
   "source": [
    "##### **Bottom 19 Non-Carbonated Drinks Overall**\n",
    "These non-carbonated drinks are not as popular in these locations and they need to be reconsidered, if there is space for more non-carbonated drinks then the most popular of this table should be given the most consideration. (Top 3-5)"
   ]
  },
  {
   "cell_type": "code",
   "execution_count": 11,
   "id": "068de71f",
   "metadata": {
    "execution": {
     "iopub.execute_input": "2022-12-09T18:39:25.773693Z",
     "iopub.status.busy": "2022-12-09T18:39:25.773302Z",
     "iopub.status.idle": "2022-12-09T18:39:25.780552Z",
     "shell.execute_reply": "2022-12-09T18:39:25.779245Z"
    },
    "papermill": {
     "duration": 0.024517,
     "end_time": "2022-12-09T18:39:25.783521",
     "exception": false,
     "start_time": "2022-12-09T18:39:25.759004",
     "status": "completed"
    },
    "tags": []
   },
   "outputs": [
    {
     "name": "stdout",
     "output_type": "stream",
     "text": [
      "                                            Total Sold\n",
      "Product                                               \n",
      "Snapple Tea - Lemon                                 51\n",
      "Bai Antioxidant - Tanzania Lemon Super Tea          33\n",
      "Snapple Tea - Peach                                 31\n",
      "Snapple Diet Tea - Raspberry                        28\n",
      "V8 Vegetable Juice - Original                       27\n",
      "BodyArmor  LYTE - Blueberry Pomegranate             23\n",
      "Bai Antioxidant - Molokai Coconut                   12\n",
      "Bai Antioxidant - Zambia Bingcherry                 11\n",
      "Bai Lemonade - Burundi Blueberry                    10\n",
      "Honest Tea - Berry Hibiscus                         10\n",
      "Bai Antioxidant - Kupang strawberry kiwi            10\n",
      "Snapple Lemonade - black berry                       8\n",
      "Snapple Lemonade - pineapple                         8\n",
      "Snapple Lemonade - watermelon                        8\n",
      "Zevia Zero Calorie Energy - Mango Ginger             6\n",
      "Bai Antioxidant - Kula Watermelon                    5\n",
      "Bai Antioxidant - Brasilia BB                        4\n",
      "Spindrift - Sparkling Water Raspberry Lime           2\n",
      "Zevia Organic Tea - Peach                            1\n"
     ]
    }
   ],
   "source": [
    "print(non_carb_count_overview.tail(19))"
   ]
  },
  {
   "cell_type": "markdown",
   "id": "f824a92c",
   "metadata": {
    "papermill": {
     "duration": 0.013115,
     "end_time": "2022-12-09T18:39:25.810968",
     "exception": false,
     "start_time": "2022-12-09T18:39:25.797853",
     "status": "completed"
    },
    "tags": []
   },
   "source": [
    "### Hypothesis #2\n",
    "The average revenue per carbonated drink is **equal to** the average revenue for drinks in the water category\n",
    "> Assuming there is equal demand (purchases) among the two categories"
   ]
  },
  {
   "cell_type": "code",
   "execution_count": 12,
   "id": "19f8abc8",
   "metadata": {
    "execution": {
     "iopub.execute_input": "2022-12-09T18:39:25.839136Z",
     "iopub.status.busy": "2022-12-09T18:39:25.838739Z",
     "iopub.status.idle": "2022-12-09T18:39:26.106170Z",
     "shell.execute_reply": "2022-12-09T18:39:26.104916Z"
    },
    "papermill": {
     "duration": 0.284392,
     "end_time": "2022-12-09T18:39:26.108634",
     "exception": false,
     "start_time": "2022-12-09T18:39:25.824242",
     "status": "completed"
    },
    "tags": []
   },
   "outputs": [
    {
     "name": "stdout",
     "output_type": "stream",
     "text": [
      "-5.038787638137021 5.081582172672138e-07\n",
      "AxesSubplot(0.125,0.125;0.775x0.755)\n"
     ]
    },
    {
     "data": {
      "image/png": "[encoded data removed]",
      "text/plain": [
       "<Figure size 432x288 with 1 Axes>"
      ]
     },
     "metadata": {},
     "output_type": "display_data"
    }
   ],
   "source": [
    "# create data frames for carbonated and water categories\n",
    "# df_carb = df.loc[df['Category'] == 'Carbonated']\n",
    "df_water = df.loc[df['Category'] == 'Water']\n",
    "\n",
    "# conduct t-test to test for signif\n",
    "tc2, pc2 = ttest_ind(df_water['RPrice'], df_carb['RPrice'])\n",
    "print(tc2, pc2)\n",
    "\n",
    "# context \n",
    "from numpy import mean\n",
    "t_2 = df[df['Category'].isin(['Carbonated', 'Water'])]\n",
    "h_2 = sns.barplot(x = 'Category', y = 'RPrice', data = t_2, estimator = mean)\n",
    "print(h_2)"
   ]
  },
  {
   "cell_type": "markdown",
   "id": "094bf684",
   "metadata": {
    "papermill": {
     "duration": 0.013453,
     "end_time": "2022-12-09T18:39:26.135898",
     "exception": false,
     "start_time": "2022-12-09T18:39:26.122445",
     "status": "completed"
    },
    "tags": []
   },
   "source": [
    "### Hypothesis #2 Summary\n",
    "- The above bar chart shows the average revenue per product for both carbonated and water beverages\n",
    "- I reject **Hypothesis #2** as the average revenue per cabonated beverage is **higher** than that of the beverages in the water category\n",
    " - This is a significant difference at a 95% confidence level | p < .01 \n",
    "\n",
    "<br>\n",
    "From here it is time to investigate the selection of water."
   ]
  },
  {
   "cell_type": "markdown",
   "id": "4ad0efcd",
   "metadata": {
    "papermill": {
     "duration": 0.01339,
     "end_time": "2022-12-09T18:39:26.163075",
     "exception": false,
     "start_time": "2022-12-09T18:39:26.149685",
     "status": "completed"
    },
    "tags": []
   },
   "source": [
    "##### **Water** | 11 Total Products"
   ]
  },
  {
   "cell_type": "code",
   "execution_count": 13,
   "id": "32a1e1fb",
   "metadata": {
    "execution": {
     "iopub.execute_input": "2022-12-09T18:39:26.192882Z",
     "iopub.status.busy": "2022-12-09T18:39:26.192458Z",
     "iopub.status.idle": "2022-12-09T18:39:26.209968Z",
     "shell.execute_reply": "2022-12-09T18:39:26.208643Z"
    },
    "papermill": {
     "duration": 0.035718,
     "end_time": "2022-12-09T18:39:26.213076",
     "exception": false,
     "start_time": "2022-12-09T18:39:26.177358",
     "status": "completed"
    },
    "tags": []
   },
   "outputs": [
    {
     "name": "stdout",
     "output_type": "stream",
     "text": [
      "                                         Total Sold\n",
      "Product                                            \n",
      "Poland Springs Water                            300\n",
      "S. Pellegrino Sparkling Mineral Water            66\n",
      "BodyArmor LYTE - Strawberry Lemonade             33\n",
      "Vitamin Water - Squeezed Lemonade                25\n",
      "BodyArmor LYTE  - Peach Mango                    19\n",
      "Vitamin Water - XXX Acai BB Pomegranate          17\n",
      "Vitamin Water - Ice Cool Blue Lavender           10\n",
      "Bubly - Blackberry                                4\n",
      "Bubly - Lime                                      4\n",
      "Bubly - Grapefruit                                3\n",
      "BodyArmor LYTE  - Berry Punch                     2\n"
     ]
    }
   ],
   "source": [
    "# create df filtered for only water\n",
    "water_df = df.loc[df['Category'] == 'Water']\n",
    "\n",
    "# get counts for each product \n",
    "water_count_overview = water_df.groupby('Product').count()[['RPrice']]\n",
    "water_count_overview['Total Sold'] = water_count_overview['RPrice']\n",
    "water_count_overview = water_count_overview.drop(['RPrice'], axis=1)\n",
    "water_count_overview = water_count_overview.sort_values(by = 'Total Sold', ascending=False)\n",
    "\n",
    "# all total options\n",
    "print(water_count_overview)"
   ]
  },
  {
   "cell_type": "markdown",
   "id": "abd2df59",
   "metadata": {
    "papermill": {
     "duration": 0.018364,
     "end_time": "2022-12-09T18:39:26.246132",
     "exception": false,
     "start_time": "2022-12-09T18:39:26.227768",
     "status": "completed"
    },
    "tags": []
   },
   "source": [
    "##### **Top Water Product Overall**\n",
    "\n",
    "The Poland Springs Water is by far the most popular."
   ]
  },
  {
   "cell_type": "code",
   "execution_count": 14,
   "id": "425e43ee",
   "metadata": {
    "execution": {
     "iopub.execute_input": "2022-12-09T18:39:26.283499Z",
     "iopub.status.busy": "2022-12-09T18:39:26.282421Z",
     "iopub.status.idle": "2022-12-09T18:39:26.291822Z",
     "shell.execute_reply": "2022-12-09T18:39:26.290659Z"
    },
    "papermill": {
     "duration": 0.033459,
     "end_time": "2022-12-09T18:39:26.296521",
     "exception": false,
     "start_time": "2022-12-09T18:39:26.263062",
     "status": "completed"
    },
    "tags": []
   },
   "outputs": [
    {
     "name": "stdout",
     "output_type": "stream",
     "text": [
      "                      Total Sold\n",
      "Product                         \n",
      "Poland Springs Water         300\n"
     ]
    }
   ],
   "source": [
    "print(water_count_overview.head(1))"
   ]
  },
  {
   "cell_type": "markdown",
   "id": "d53de236",
   "metadata": {
    "papermill": {
     "duration": 0.020067,
     "end_time": "2022-12-09T18:39:26.332929",
     "exception": false,
     "start_time": "2022-12-09T18:39:26.312862",
     "status": "completed"
    },
    "tags": []
   },
   "source": [
    "##### **Bottom 10 Water Products Overall**\n",
    "\n",
    "As water does not generate a large portion of revenue, and with limited space it is recomended to replace these poor performing water products and consider other non-water beverages or food that sells more frequently or generates more revenue in these locations."
   ]
  },
  {
   "cell_type": "code",
   "execution_count": 15,
   "id": "9dc7e1fd",
   "metadata": {
    "execution": {
     "iopub.execute_input": "2022-12-09T18:39:26.364039Z",
     "iopub.status.busy": "2022-12-09T18:39:26.363606Z",
     "iopub.status.idle": "2022-12-09T18:39:26.370774Z",
     "shell.execute_reply": "2022-12-09T18:39:26.369845Z"
    },
    "papermill": {
     "duration": 0.025636,
     "end_time": "2022-12-09T18:39:26.373531",
     "exception": false,
     "start_time": "2022-12-09T18:39:26.347895",
     "status": "completed"
    },
    "tags": []
   },
   "outputs": [
    {
     "name": "stdout",
     "output_type": "stream",
     "text": [
      "                                         Total Sold\n",
      "Product                                            \n",
      "S. Pellegrino Sparkling Mineral Water            66\n",
      "BodyArmor LYTE - Strawberry Lemonade             33\n",
      "Vitamin Water - Squeezed Lemonade                25\n",
      "BodyArmor LYTE  - Peach Mango                    19\n",
      "Vitamin Water - XXX Acai BB Pomegranate          17\n",
      "Vitamin Water - Ice Cool Blue Lavender           10\n",
      "Bubly - Blackberry                                4\n",
      "Bubly - Lime                                      4\n",
      "Bubly - Grapefruit                                3\n",
      "BodyArmor LYTE  - Berry Punch                     2\n"
     ]
    }
   ],
   "source": [
    "print(water_count_overview.tail(10))"
   ]
  },
  {
   "cell_type": "markdown",
   "id": "f77271f3",
   "metadata": {
    "papermill": {
     "duration": 0.013802,
     "end_time": "2022-12-09T18:39:26.401874",
     "exception": false,
     "start_time": "2022-12-09T18:39:26.388072",
     "status": "completed"
    },
    "tags": []
   },
   "source": [
    "### Hypothesis #3\n",
    "The average revenue per carbonated drink is **equal to** the average revenue for food products.\n",
    "> Assuming there is equal demand (purchases) among the two categories"
   ]
  },
  {
   "cell_type": "code",
   "execution_count": 16,
   "id": "5bc76fb5",
   "metadata": {
    "execution": {
     "iopub.execute_input": "2022-12-09T18:39:26.432736Z",
     "iopub.status.busy": "2022-12-09T18:39:26.432157Z",
     "iopub.status.idle": "2022-12-09T18:39:26.743485Z",
     "shell.execute_reply": "2022-12-09T18:39:26.742350Z"
    },
    "papermill": {
     "duration": 0.329446,
     "end_time": "2022-12-09T18:39:26.745956",
     "exception": false,
     "start_time": "2022-12-09T18:39:26.416510",
     "status": "completed"
    },
    "tags": []
   },
   "outputs": [
    {
     "name": "stdout",
     "output_type": "stream",
     "text": [
      "-19.521880709626263 6.853161341994257e-82\n",
      "AxesSubplot(0.125,0.125;0.775x0.755)\n"
     ]
    },
    {
     "data": {
      "image/png": "[encoded data removed]",
      "text/plain": [
       "<Figure size 432x288 with 1 Axes>"
      ]
     },
     "metadata": {},
     "output_type": "display_data"
    }
   ],
   "source": [
    "# create data frames for carbonated and water categories\n",
    "# df_carb = df.loc[df['Category'] == 'Carbonated']\n",
    "df_food = df.loc[df['Category'] == 'Food']\n",
    "\n",
    "# conduct t-test to test for signif\n",
    "tc3, pc3 = ttest_ind(df_food['RPrice'], df_carb['RPrice'])\n",
    "print(tc3, pc3)\n",
    "\n",
    "# context \n",
    "from numpy import mean\n",
    "t_3 = df[df['Category'].isin(['Carbonated', 'Food'])]\n",
    "h_3 = sns.barplot(x = 'Category', y = 'RPrice', data = t_3, estimator = mean)\n",
    "print(h_3)"
   ]
  },
  {
   "cell_type": "markdown",
   "id": "12daeeee",
   "metadata": {
    "papermill": {
     "duration": 0.013563,
     "end_time": "2022-12-09T18:39:26.773833",
     "exception": false,
     "start_time": "2022-12-09T18:39:26.760270",
     "status": "completed"
    },
    "tags": []
   },
   "source": [
    "### Hypothesis #3 Summary\n",
    "- The above bar chart shows the average revenue per product for both carbonated drinks and food\n",
    "- I reject **Hypothesis #3** as the average revenue per cabonated beverage is **higher** than the average revenue per food product\n",
    " - This is a significant difference at a 95% confidence level | p < .01 \n",
    "\n",
    "<br>\n",
    "From here we can look at the food selection and options"
   ]
  },
  {
   "cell_type": "markdown",
   "id": "5b6bedd8",
   "metadata": {
    "papermill": {
     "duration": 0.013613,
     "end_time": "2022-12-09T18:39:26.801380",
     "exception": false,
     "start_time": "2022-12-09T18:39:26.787767",
     "status": "completed"
    },
    "tags": []
   },
   "source": [
    "##### **Food** | 111 Total Products"
   ]
  },
  {
   "cell_type": "code",
   "execution_count": 17,
   "id": "7dda1c5d",
   "metadata": {
    "execution": {
     "iopub.execute_input": "2022-12-09T18:39:26.831211Z",
     "iopub.status.busy": "2022-12-09T18:39:26.830371Z",
     "iopub.status.idle": "2022-12-09T18:39:26.851280Z",
     "shell.execute_reply": "2022-12-09T18:39:26.849563Z"
    },
    "papermill": {
     "duration": 0.039441,
     "end_time": "2022-12-09T18:39:26.854630",
     "exception": false,
     "start_time": "2022-12-09T18:39:26.815189",
     "status": "completed"
    },
    "tags": []
   },
   "outputs": [
    {
     "name": "stdout",
     "output_type": "stream",
     "text": [
      "                                               Total Sold\n",
      "Product                                                  \n",
      "KitKat - Crisp Wafers                                 260\n",
      "Wonderful Pistachios - Variety                        144\n",
      "CheezIt - Original                                    138\n",
      "SunChips Multigrain - Harvest Cheddar                 131\n",
      "Robert Irvine's - Fit Crunch -  Chocolate Pea         121\n",
      "...                                                   ...\n",
      "Nature's Garden Trail Mix - Heart Healthy Mix           1\n",
      "Nature's Garden Trail Mix - Omega 3                     1\n",
      "Nature's Valley Chewy Granola Bar - Fruit & N           1\n",
      "Nature's Valley Crunchy Granola Bar - Oats &            1\n",
      "Larabar - Peanut Butter chocolate Chip                  1\n",
      "\n",
      "[111 rows x 1 columns]\n"
     ]
    }
   ],
   "source": [
    "# create df filtered for only food\n",
    "food_df = df.loc[df['Category'] == 'Food']\n",
    "\n",
    "# get counts for each product \n",
    "food_count_overview = food_df.groupby('Product').count()[['RPrice']]\n",
    "food_count_overview['Total Sold'] = food_count_overview['RPrice']\n",
    "food_count_overview = food_count_overview.drop(['RPrice'], axis=1)\n",
    "food_count_overview = food_count_overview.sort_values(by = 'Total Sold', ascending=False)\n",
    "\n",
    "# all total options\n",
    "print(food_count_overview)"
   ]
  },
  {
   "cell_type": "markdown",
   "id": "42bcdce1",
   "metadata": {
    "papermill": {
     "duration": 0.013959,
     "end_time": "2022-12-09T18:39:26.883157",
     "exception": false,
     "start_time": "2022-12-09T18:39:26.869198",
     "status": "completed"
    },
    "tags": []
   },
   "source": [
    "##### **Top Food Products** | Greater than 25 units sold to date\n",
    "These are the food products that are the most popular and should be kept in the machines."
   ]
  },
  {
   "cell_type": "code",
   "execution_count": 18,
   "id": "0544f8e2",
   "metadata": {
    "execution": {
     "iopub.execute_input": "2022-12-09T18:39:26.914149Z",
     "iopub.status.busy": "2022-12-09T18:39:26.913129Z",
     "iopub.status.idle": "2022-12-09T18:39:26.922115Z",
     "shell.execute_reply": "2022-12-09T18:39:26.920516Z"
    },
    "papermill": {
     "duration": 0.026889,
     "end_time": "2022-12-09T18:39:26.924663",
     "exception": false,
     "start_time": "2022-12-09T18:39:26.897774",
     "status": "completed"
    },
    "tags": []
   },
   "outputs": [
    {
     "name": "stdout",
     "output_type": "stream",
     "text": [
      "                                               Total Sold\n",
      "Product                                                  \n",
      "KitKat - Crisp Wafers                                 260\n",
      "Wonderful Pistachios - Variety                        144\n",
      "CheezIt - Original                                    138\n",
      "SunChips Multigrain - Harvest Cheddar                 131\n",
      "Robert Irvine's - Fit Crunch -  Chocolate Pea         121\n",
      "Oreo Mini                                             109\n",
      "SunChips Multigrain - Salsa                           105\n",
      "Takis - Hot Chilli Pepper & Lime                       96\n",
      "Goldfish Baked - Cheddar                               91\n",
      "Cheetos - Fleming Hot Crunchy                          83\n",
      "Funyuns - Flaming Hot                                  82\n",
      "SunChips Multigrain - Original                         72\n",
      "Cheetos Flaming Hot Limon Crunchy                      64\n",
      "Chesters Fries Flaming hot                             59\n",
      "Kinder - Bueno - Crispy Creamy Chocolate               59\n",
      "Good Health Veggie Stix - Sea Salt                     53\n",
      "Oreo Single Server 6 ct                                53\n",
      "Miss Vickie's Potato Chip - Sea Salt & Vinega          53\n",
      "Miss Vickie's Potato Chip - Jalapeno                   50\n",
      "Takis FUGEO mini                                       48\n",
      "Miss Vickie's Potato Chip - Smokehouse BBQ             47\n",
      "Lays - Classic                                         46\n",
      "Pop Corners - Sea Salt                                 44\n",
      "Pop Corners - Kettle Corn                              43\n",
      "Pop Corners - White Cheddar                            41\n",
      "Miss Vickie's Potato Chip - Sea Salt Original          40\n",
      "Nature's Bakery Fig Bar - Blueberry                    39\n",
      "Miss Vickie's Potato Chip - Lime & Cracked Pe          38\n",
      "Fritos - Original                                      37\n",
      "CheezIt - Double Cheese                                37\n",
      "Keto Bar - Creamy Peanut Butter Chocolate              35\n",
      "Seapoint Farms Dry Roasted Edamame - Wasabi            34\n",
      "RXBAR - Protein Bar - Peanut Butter                    34\n",
      "Jacks Links Bar Beef Strip                             33\n",
      "Belvita Snack Packs - Blueberry                        32\n",
      "CheezIt - White Cheddar                                32\n",
      "Nutri Grain Apple Cinnamon                             32\n",
      "Newtons Fig Bar                                        32\n",
      "Nature's Bakery Fig Bar - Raspberry                    31\n",
      "Pop Corners - Spicy Queso                              30\n",
      "Lenny & Larrys - Chocolate Chip                        29\n",
      "CheezIt - Cheddar Sour Cream and Onion                 29\n",
      "Doritos Nacho Cheese                                   28\n",
      "Doritos Famin Hot Nacho                                28\n",
      "Genius Keto Bar - Chocolate Dream                      28\n",
      "Cheetos Puffs                                          28\n",
      "Lenny & Larrys - SnickerDoodle                         26\n",
      "Good Health Veggie Stix - Zesty Ranch                  26\n"
     ]
    }
   ],
   "source": [
    "food_greater_than_25 = food_count_overview[food_count_overview['Total Sold'] > 25]\n",
    "print(food_greater_than_25)"
   ]
  },
  {
   "cell_type": "markdown",
   "id": "747e51de",
   "metadata": {
    "papermill": {
     "duration": 0.015066,
     "end_time": "2022-12-09T18:39:26.954842",
     "exception": false,
     "start_time": "2022-12-09T18:39:26.939776",
     "status": "completed"
    },
    "tags": []
   },
   "source": [
    "##### **Bottom Food Products** | Less than 25 units sold to date\n",
    "These food products are not very popular and should be reconsidered. The products with only single digit sales should be removed, and products with double digit sales can be rotated in at specific locations upon request or if supply is short for other products."
   ]
  },
  {
   "cell_type": "code",
   "execution_count": 19,
   "id": "27de7bfc",
   "metadata": {
    "execution": {
     "iopub.execute_input": "2022-12-09T18:39:26.986212Z",
     "iopub.status.busy": "2022-12-09T18:39:26.985131Z",
     "iopub.status.idle": "2022-12-09T18:39:26.994232Z",
     "shell.execute_reply": "2022-12-09T18:39:26.992787Z"
    },
    "papermill": {
     "duration": 0.027473,
     "end_time": "2022-12-09T18:39:26.997139",
     "exception": false,
     "start_time": "2022-12-09T18:39:26.969666",
     "status": "completed"
    },
    "tags": []
   },
   "outputs": [
    {
     "name": "stdout",
     "output_type": "stream",
     "text": [
      "                                               Total Sold\n",
      "Product                                                  \n",
      "Ritz Bits Cheese                                       23\n",
      "Mini Chips Ahoy                                        23\n",
      "Cheetos - Crunchy                                      23\n",
      "Popchips Potato - Sea Salt                             22\n",
      "Snyder's of Hanover Pretzel Pieces - Honey Mu          20\n",
      "...                                                   ...\n",
      "Nature's Garden Trail Mix - Heart Healthy Mix           1\n",
      "Nature's Garden Trail Mix - Omega 3                     1\n",
      "Nature's Valley Chewy Granola Bar - Fruit & N           1\n",
      "Nature's Valley Crunchy Granola Bar - Oats &            1\n",
      "Larabar - Peanut Butter chocolate Chip                  1\n",
      "\n",
      "[62 rows x 1 columns]\n"
     ]
    }
   ],
   "source": [
    "food_less_than_25 = food_count_overview[food_count_overview['Total Sold'] < 25]\n",
    "print(food_less_than_25)"
   ]
  },
  {
   "cell_type": "markdown",
   "id": "6699f4cc",
   "metadata": {
    "papermill": {
     "duration": 0.015338,
     "end_time": "2022-12-09T18:39:27.027351",
     "exception": false,
     "start_time": "2022-12-09T18:39:27.012013",
     "status": "completed"
    },
    "tags": []
   },
   "source": [
    "#### **Location Analysis**\n",
    "> Location matters...but the products demanded changes by location"
   ]
  },
  {
   "cell_type": "code",
   "execution_count": 20,
   "id": "38da6cc9",
   "metadata": {
    "execution": {
     "iopub.execute_input": "2022-12-09T18:39:27.059027Z",
     "iopub.status.busy": "2022-12-09T18:39:27.058647Z",
     "iopub.status.idle": "2022-12-09T18:39:27.474132Z",
     "shell.execute_reply": "2022-12-09T18:39:27.473261Z"
    },
    "papermill": {
     "duration": 0.433881,
     "end_time": "2022-12-09T18:39:27.476381",
     "exception": false,
     "start_time": "2022-12-09T18:39:27.042500",
     "status": "completed"
    },
    "tags": []
   },
   "outputs": [
    {
     "name": "stdout",
     "output_type": "stream",
     "text": [
      "                   Total Revenue\n",
      "Location                        \n",
      "GuttenPlans              4778.25\n",
      "EB Public Library        3594.50\n",
      "Brunswick Sq Mall        2351.00\n",
      "Earle Asphalt            1187.50\n"
     ]
    },
    {
     "data": {
      "text/plain": [
       "<AxesSubplot:xlabel='Location', ylabel='RPrice'>"
      ]
     },
     "execution_count": 20,
     "metadata": {},
     "output_type": "execute_result"
    },
    {
     "data": {
      "image/png": "[encoded data removed]",
      "text/plain": [
       "<Figure size 432x288 with 1 Axes>"
      ]
     },
     "metadata": {},
     "output_type": "display_data"
    }
   ],
   "source": [
    "# revenue overview for all locations\n",
    "# wine_df.groupby(['quality', 'color'], as_index=False)['pH'].mean() \n",
    "#(im learning python still so this above code ex. helped me...credit to Yaron Shamash for explaining pandas!)\n",
    "\n",
    "location_overview = df.groupby(['Location']).sum()[['RPrice']]\n",
    "location_overview['Total Revenue'] = location_overview['RPrice']\n",
    "location_overview = location_overview.drop(['RPrice'], axis=1)\n",
    "location_overview = location_overview.sort_values(by = 'Total Revenue', ascending=False)\n",
    "print(location_overview)\n",
    "\n",
    "# shows avg revenue but I want total revenue \n",
    "# issue with groups \n",
    "sns.barplot(x = 'Location', y = 'RPrice', data = df)"
   ]
  },
  {
   "cell_type": "markdown",
   "id": "2540469e",
   "metadata": {
    "papermill": {
     "duration": 0.014474,
     "end_time": "2022-12-09T18:39:27.505804",
     "exception": false,
     "start_time": "2022-12-09T18:39:27.491330",
     "status": "completed"
    },
    "tags": []
   },
   "source": [
    "##### **Brunswick Sq Mall** | 2 Vending Machines\n",
    "Brunswick Sq Mall - Mall with average foot traffic 7 days a week. Vending machine(s): \n",
    "> - BSQ Mall x1364\n",
    "> - Zales & BSQ Mall x1366 - ATT"
   ]
  },
  {
   "cell_type": "code",
   "execution_count": 21,
   "id": "a7399703",
   "metadata": {
    "execution": {
     "iopub.execute_input": "2022-12-09T18:39:27.538044Z",
     "iopub.status.busy": "2022-12-09T18:39:27.537063Z",
     "iopub.status.idle": "2022-12-09T18:39:27.562519Z",
     "shell.execute_reply": "2022-12-09T18:39:27.561041Z"
    },
    "papermill": {
     "duration": 0.044206,
     "end_time": "2022-12-09T18:39:27.564782",
     "exception": false,
     "start_time": "2022-12-09T18:39:27.520576",
     "status": "completed"
    },
    "tags": []
   },
   "outputs": [
    {
     "name": "stdout",
     "output_type": "stream",
     "text": [
      "                Total Revenue\n",
      "Category                     \n",
      "Food                   860.25\n",
      "Water                  533.50\n",
      "Carbonated             521.00\n",
      "Non Carbonated         436.25\n",
      "                Percent of Sales\n",
      "Category                        \n",
      "Food                       43.88\n",
      "Water                      23.33\n",
      "Carbonated                 18.03\n",
      "Non Carbonated             14.76\n"
     ]
    }
   ],
   "source": [
    "# filter for Brunswick Sq Mall and get total revenue\n",
    "mall = df.loc[df['Location'] == 'Brunswick Sq Mall']\n",
    "mall_overview = mall.groupby(\"Category\").sum()[['RPrice']]\n",
    "mall_overview['Total Revenue'] = mall_overview['RPrice']\n",
    "mall_overview = mall_overview.drop(['RPrice'], axis=1)\n",
    "mall_overview = mall_overview.sort_values(by = 'Total Revenue', ascending=False)\n",
    "print(mall_overview)\n",
    "\n",
    "# get counts for each category (then calculate percent of total)\n",
    "mall_count_overview = mall.groupby('Category').count()[['RPrice']]\n",
    "mall_count_overview['Percent of Sales'] = round(mall_count_overview['RPrice'] / 1226 * 100,2)\n",
    "mall_count_overview = mall_count_overview.drop(['RPrice'], axis=1)\n",
    "mall_count_overview = mall_count_overview.sort_values(by = 'Percent of Sales', ascending=False)\n",
    "\n",
    "print(mall_count_overview)"
   ]
  },
  {
   "cell_type": "markdown",
   "id": "468bc457",
   "metadata": {
    "papermill": {
     "duration": 0.014613,
     "end_time": "2022-12-09T18:39:27.594281",
     "exception": false,
     "start_time": "2022-12-09T18:39:27.579668",
     "status": "completed"
    },
    "tags": []
   },
   "source": [
    "#### **Optimizing Brunswick Sq Mall**\n",
    "The mall location makes up over half it's sales in **food** and **water**, so the stock of the vending machine should represent this. \n",
    "> - More food and water options, with the carbonated and non-carbonated options only being the most popular overall\n",
    "\n",
    "Brunswick Mall has 2 vending machines, but does it **really need both**? \n",
    "\n",
    "First, I want to see if there is any difference in the product categories, as sometimes vending machines may have only drinks, only snacks or both..."
   ]
  },
  {
   "cell_type": "code",
   "execution_count": 22,
   "id": "4865b061",
   "metadata": {
    "execution": {
     "iopub.execute_input": "2022-12-09T18:39:27.626578Z",
     "iopub.status.busy": "2022-12-09T18:39:27.625656Z",
     "iopub.status.idle": "2022-12-09T18:39:27.649927Z",
     "shell.execute_reply": "2022-12-09T18:39:27.648399Z"
    },
    "papermill": {
     "duration": 0.043002,
     "end_time": "2022-12-09T18:39:27.652332",
     "exception": false,
     "start_time": "2022-12-09T18:39:27.609330",
     "status": "completed"
    },
    "tags": []
   },
   "outputs": [
    {
     "name": "stdout",
     "output_type": "stream",
     "text": [
      "                Total Revenue\n",
      "Category                     \n",
      "Food                   345.25\n",
      "Carbonated             284.75\n",
      "Water                  228.25\n",
      "Non Carbonated         200.50\n",
      "                Total Revenue\n",
      "Category                     \n",
      "Food                   515.00\n",
      "Water                  305.25\n",
      "Carbonated             236.25\n",
      "Non Carbonated         235.75\n"
     ]
    }
   ],
   "source": [
    "# create data frame for mall machine 'ATT'\n",
    "mall_att = mall.loc[mall['Machine'] == 'BSQ Mall x1366 - ATT']\n",
    "mall_att = mall_att.groupby(\"Category\").sum()[['RPrice']]\n",
    "mall_att['Total Revenue'] = mall_att['RPrice']\n",
    "mall_att = mall_att.drop(['RPrice'], axis=1)\n",
    "mall_att = mall_att.sort_values(by = 'Total Revenue', ascending=False)\n",
    "print(mall_att)\n",
    "\n",
    "# create data frame for mall machine 'Zales'\n",
    "mall_zales = mall.loc[mall['Machine'] == 'BSQ Mall x1364 - Zales']\n",
    "mall_zales = mall_zales.groupby(\"Category\").sum()[['RPrice']]\n",
    "mall_zales['Total Revenue'] = mall_zales['RPrice']\n",
    "mall_zales = mall_zales.drop(['RPrice'], axis=1)\n",
    "mall_zales = mall_zales.sort_values(by = 'Total Revenue', ascending=False)\n",
    "print(mall_zales)"
   ]
  },
  {
   "cell_type": "markdown",
   "id": "516216e2",
   "metadata": {
    "papermill": {
     "duration": 0.014789,
     "end_time": "2022-12-09T18:39:27.683324",
     "exception": false,
     "start_time": "2022-12-09T18:39:27.668535",
     "status": "completed"
    },
    "tags": []
   },
   "source": [
    "Both vending machines have all 4 categories, and low revenue, *but which one should they keep?*"
   ]
  },
  {
   "cell_type": "markdown",
   "id": "bcb4d32a",
   "metadata": {
    "papermill": {
     "duration": 0.014554,
     "end_time": "2022-12-09T18:39:27.712776",
     "exception": false,
     "start_time": "2022-12-09T18:39:27.698222",
     "status": "completed"
    },
    "tags": []
   },
   "source": [
    "### Hypothesis #4\n",
    "The average product revenue for the mall 'ATT' machine is **equal to** the average product revenue for the mall 'Zales' machine.\n",
    "\n",
    "The machine with the highest average revenue per product will be the one the mall keeps..."
   ]
  },
  {
   "cell_type": "code",
   "execution_count": 23,
   "id": "6fcf2c2d",
   "metadata": {
    "execution": {
     "iopub.execute_input": "2022-12-09T18:39:27.744979Z",
     "iopub.status.busy": "2022-12-09T18:39:27.744202Z",
     "iopub.status.idle": "2022-12-09T18:39:28.018579Z",
     "shell.execute_reply": "2022-12-09T18:39:28.017388Z"
    },
    "papermill": {
     "duration": 0.293454,
     "end_time": "2022-12-09T18:39:28.021230",
     "exception": false,
     "start_time": "2022-12-09T18:39:27.727776",
     "status": "completed"
    },
    "tags": []
   },
   "outputs": [
    {
     "name": "stdout",
     "output_type": "stream",
     "text": [
      "7.880272278936319 7.172869260118651e-15\n",
      "AxesSubplot(0.125,0.125;0.775x0.755)\n"
     ]
    },
    {
     "data": {
      "image/png": "[encoded data removed]",
      "text/plain": [
       "<Figure size 432x288 with 1 Axes>"
      ]
     },
     "metadata": {},
     "output_type": "display_data"
    }
   ],
   "source": [
    "# create data frames for carbonated and water categories\n",
    "df_mall_a = df.loc[df['Machine'] == 'BSQ Mall x1366 - ATT']\n",
    "df_mall_z = df.loc[df['Machine'] == 'BSQ Mall x1364 - Zales']\n",
    "\n",
    "# conduct t-test to test for signif\n",
    "tc4, pc4 = ttest_ind(df_mall_a['RPrice'], df_mall_z['RPrice'])\n",
    "print(tc4, pc4)\n",
    "\n",
    "# context \n",
    "from numpy import mean\n",
    "t_4 = df[df['Machine'].isin(['BSQ Mall x1366 - ATT', 'BSQ Mall x1364 - Zales'])]\n",
    "h_4 = sns.barplot(x = 'Machine', y = 'RPrice', data = t_4, estimator = mean)\n",
    "print(h_4)"
   ]
  },
  {
   "cell_type": "markdown",
   "id": "019042cd",
   "metadata": {
    "papermill": {
     "duration": 0.015118,
     "end_time": "2022-12-09T18:39:28.052094",
     "exception": false,
     "start_time": "2022-12-09T18:39:28.036976",
     "status": "completed"
    },
    "tags": []
   },
   "source": [
    "### Hypothesis #4 Summary\n",
    "- The above bar chart shows the average revenue per product for each vending machines at the mall location\n",
    "- **Hypothesis #4 is rejected** as the average revenue per product is **not the same** for each machine, there is a real difference.\n",
    " - It is a significant difference at a 95% confidence level | p < .01 \n",
    "\n",
    "<br>\n",
    "The mall should keep the 'ATT' machine and the 'Zales' machine can be removed and put at another location. "
   ]
  },
  {
   "cell_type": "markdown",
   "id": "5f7aa875",
   "metadata": {
    "papermill": {
     "duration": 0.015235,
     "end_time": "2022-12-09T18:39:28.082853",
     "exception": false,
     "start_time": "2022-12-09T18:39:28.067618",
     "status": "completed"
    },
    "tags": []
   },
   "source": [
    "##### **Earle Asphalt** | 1 Vending Machine\n",
    "Earle Asphalt - A construction engineering firm that operates 5 days a week. Vending machine:\n",
    "> - Earle Asphalt x1371"
   ]
  },
  {
   "cell_type": "code",
   "execution_count": 24,
   "id": "1b1b1725",
   "metadata": {
    "execution": {
     "iopub.execute_input": "2022-12-09T18:39:28.115630Z",
     "iopub.status.busy": "2022-12-09T18:39:28.115192Z",
     "iopub.status.idle": "2022-12-09T18:39:28.139709Z",
     "shell.execute_reply": "2022-12-09T18:39:28.138044Z"
    },
    "papermill": {
     "duration": 0.044472,
     "end_time": "2022-12-09T18:39:28.142969",
     "exception": false,
     "start_time": "2022-12-09T18:39:28.098497",
     "status": "completed"
    },
    "tags": []
   },
   "outputs": [
    {
     "name": "stdout",
     "output_type": "stream",
     "text": [
      "                Total Revenue\n",
      "Category                     \n",
      "Food                   1005.0\n",
      "Carbonated               85.5\n",
      "Non Carbonated           64.0\n",
      "Water                    33.0\n",
      "                Percent of Sales\n",
      "Category                        \n",
      "Food                       87.43\n",
      "Carbonated                  6.36\n",
      "Non Carbonated              4.14\n",
      "Water                       2.07\n"
     ]
    }
   ],
   "source": [
    "# filter for Earle Asphalt and get total revenue\n",
    "ea = df.loc[df['Location'] == 'Earle Asphalt']\n",
    "ea_overview = ea.groupby(\"Category\").sum()[['RPrice']]\n",
    "ea_overview['Total Revenue'] = ea_overview['RPrice']\n",
    "ea_overview = ea_overview.drop(['RPrice'], axis=1)\n",
    "ea_overview = ea_overview.sort_values(by = 'Total Revenue', ascending=False)\n",
    "print(ea_overview)\n",
    "\n",
    "# get counts for each category (then calculate percent of total)\n",
    "ea_count_overview = ea.groupby('Category').count()[['RPrice']]\n",
    "ea_count_overview['Percent of Sales'] = round(ea_count_overview['RPrice'] / 676 * 100,2)\n",
    "ea_count_overview = ea_count_overview.drop(['RPrice'], axis=1)\n",
    "ea_count_overview = ea_count_overview.sort_values(by = 'Percent of Sales', ascending=False)\n",
    "\n",
    "print(ea_count_overview)"
   ]
  },
  {
   "cell_type": "markdown",
   "id": "07f680cc",
   "metadata": {
    "papermill": {
     "duration": 0.015267,
     "end_time": "2022-12-09T18:39:28.174451",
     "exception": false,
     "start_time": "2022-12-09T18:39:28.159184",
     "status": "completed"
    },
    "tags": []
   },
   "source": [
    "#### **Optimizing Earle Asphalt**\n",
    "The Earle Asphalt location makes up the majority of its sales in **food**, with over 87% of sales being food products. Thus, the stock of the vending machine should represent this. \n",
    "> - Majority of options should be food, with the water, carbonated and non-carbonated options only being the most popular for this location"
   ]
  },
  {
   "cell_type": "markdown",
   "id": "bd4adb4f",
   "metadata": {
    "papermill": {
     "duration": 0.015433,
     "end_time": "2022-12-09T18:39:28.205471",
     "exception": false,
     "start_time": "2022-12-09T18:39:28.190038",
     "status": "completed"
    },
    "tags": []
   },
   "source": [
    "##### **Gutten Plans** | 1 Vending Machine\n",
    "Gutten Plans - Frozen dough specialist company that operates 24/5. Vending machine:\n",
    "> - GuttenPlans x1367"
   ]
  },
  {
   "cell_type": "code",
   "execution_count": 25,
   "id": "73968a53",
   "metadata": {
    "execution": {
     "iopub.execute_input": "2022-12-09T18:39:28.238899Z",
     "iopub.status.busy": "2022-12-09T18:39:28.237817Z",
     "iopub.status.idle": "2022-12-09T18:39:28.262960Z",
     "shell.execute_reply": "2022-12-09T18:39:28.261748Z"
    },
    "papermill": {
     "duration": 0.044468,
     "end_time": "2022-12-09T18:39:28.265473",
     "exception": false,
     "start_time": "2022-12-09T18:39:28.221005",
     "status": "completed"
    },
    "tags": []
   },
   "outputs": [
    {
     "name": "stdout",
     "output_type": "stream",
     "text": [
      "                Total Revenue\n",
      "Category                     \n",
      "Carbonated            2241.00\n",
      "Food                  1972.25\n",
      "Non Carbonated         565.00\n",
      "                Percent of Sales\n",
      "Category                        \n",
      "Food                       47.62\n",
      "Carbonated                 43.42\n",
      "Non Carbonated              8.95\n"
     ]
    }
   ],
   "source": [
    "# filter for GuttenPlans and get total revenue\n",
    "gp = df.loc[df['Location'] == 'GuttenPlans']\n",
    "gp_overview = gp.groupby(\"Category\").sum()[['RPrice']]\n",
    "gp_overview['Total Revenue'] = gp_overview['RPrice']\n",
    "gp_overview = gp_overview.drop(['RPrice'], axis=1)\n",
    "gp_overview = gp_overview.sort_values(by = 'Total Revenue', ascending=False)\n",
    "print(gp_overview)\n",
    "\n",
    "# get counts for each category (then calculate percent of total)\n",
    "gp_count_overview = gp.groupby('Category').count()[['RPrice']]\n",
    "gp_count_overview['Percent of Sales'] = round(gp_count_overview['RPrice'] / 2524 * 100,2)\n",
    "gp_count_overview = gp_count_overview.drop(['RPrice'], axis=1)\n",
    "gp_count_overview = gp_count_overview.sort_values(by = 'Percent of Sales', ascending=False)\n",
    "\n",
    "print(gp_count_overview)"
   ]
  },
  {
   "cell_type": "markdown",
   "id": "0f6fd02b",
   "metadata": {
    "papermill": {
     "duration": 0.015359,
     "end_time": "2022-12-09T18:39:28.296597",
     "exception": false,
     "start_time": "2022-12-09T18:39:28.281238",
     "status": "completed"
    },
    "tags": []
   },
   "source": [
    "#### **Optimizing Gutten Plans**\n",
    "The Gutten Plans location makes up over 90% of its sales in **food** and **carbonated** products. Thus the stock of the vending machine should represent this. \n",
    "> - Majority of options should be food and carbonated drinks, with non-carbonated options only being the most popular for this location\n",
    "> - This location also does not sell any water products, so testing with the most popular water products can be done to see if they would be successful"
   ]
  },
  {
   "cell_type": "markdown",
   "id": "107796b6",
   "metadata": {
    "papermill": {
     "duration": 0.015301,
     "end_time": "2022-12-09T18:39:28.328250",
     "exception": false,
     "start_time": "2022-12-09T18:39:28.312949",
     "status": "completed"
    },
    "tags": []
   },
   "source": [
    "##### **EB Public Library** | 1 Vending Machine\n",
    "Public library that has high foot traffic 5-6 days a week. Vending machine:\n",
    "> - EB Public Library x1380"
   ]
  },
  {
   "cell_type": "code",
   "execution_count": 26,
   "id": "17fca98f",
   "metadata": {
    "execution": {
     "iopub.execute_input": "2022-12-09T18:39:28.362391Z",
     "iopub.status.busy": "2022-12-09T18:39:28.361336Z",
     "iopub.status.idle": "2022-12-09T18:39:28.388050Z",
     "shell.execute_reply": "2022-12-09T18:39:28.386403Z"
    },
    "papermill": {
     "duration": 0.047099,
     "end_time": "2022-12-09T18:39:28.391079",
     "exception": false,
     "start_time": "2022-12-09T18:39:28.343980",
     "status": "completed"
    },
    "tags": []
   },
   "outputs": [
    {
     "name": "stdout",
     "output_type": "stream",
     "text": [
      "                Total Revenue\n",
      "Category                     \n",
      "Food                  1997.75\n",
      "Non Carbonated         746.00\n",
      "Carbonated             524.00\n",
      "Water                  326.75\n",
      "                Percent of Sales\n",
      "Category                        \n",
      "Food                       59.81\n",
      "Carbonated                 15.21\n",
      "Non Carbonated             14.99\n",
      "Water                       9.98\n"
     ]
    }
   ],
   "source": [
    "# filter for EB Public Library and get total revenue\n",
    "eb = df.loc[df['Location'] == 'EB Public Library']\n",
    "eb_overview = eb.groupby('Category').sum()[['RPrice']]\n",
    "eb_overview['Total Revenue'] = eb_overview['RPrice']\n",
    "eb_overview = eb_overview.drop(['RPrice'], axis=1)\n",
    "eb_overview = eb_overview.sort_values(by = 'Total Revenue', ascending=False)\n",
    "print(eb_overview)\n",
    "\n",
    "# get counts for each category (then calculate percent of total)\n",
    "eb_count_overview = eb.groupby('Category').count()[['RPrice']]\n",
    "eb_count_overview['Percent of Sales'] = round(eb_count_overview['RPrice'] / 1834 * 100,2)\n",
    "eb_count_overview = eb_count_overview.drop(['RPrice'], axis=1)\n",
    "eb_count_overview = eb_count_overview.sort_values(by = 'Percent of Sales', ascending=False)\n",
    "\n",
    "print(eb_count_overview)"
   ]
  },
  {
   "cell_type": "markdown",
   "id": "fa78a6e2",
   "metadata": {
    "papermill": {
     "duration": 0.015762,
     "end_time": "2022-12-09T18:39:28.423375",
     "exception": false,
     "start_time": "2022-12-09T18:39:28.407613",
     "status": "completed"
    },
    "tags": []
   },
   "source": [
    "#### **Optimizing EB Public Library**\n",
    "The EB Public Library location makes up close to 60% of it's sales in **food** products. Thus the stock of the vending machine should represent this. \n",
    "> - Majority of options should be food, with a selection of popular carbonated drinks and non-carbonated product options. As for water products only the most popular should be stocked for this location."
   ]
  },
  {
   "cell_type": "markdown",
   "id": "60a93a9a",
   "metadata": {
    "papermill": {
     "duration": 0.015562,
     "end_time": "2022-12-09T18:39:28.454742",
     "exception": false,
     "start_time": "2022-12-09T18:39:28.439180",
     "status": "completed"
    },
    "tags": []
   },
   "source": [
    "## **Recommendations**\n",
    "### Overall\n",
    "> **Space is limited** | Optimize the space used and customize the selection based on location\n",
    "> - Condense product selection to meet consumer preferences to **increase revenue**\n",
    "> - Balance selection and variety to **lower costs** for buying in bulk *(economy of scale)*\n",
    "> - Locations where people work or spend lots of time tend to have more purchases\n",
    "\n",
    "### Location Specific\n",
    "> **Brunswick Sq Mall**\n",
    "> - Keep only the 'ATT' vending machine\n",
    "> - Allocate the majority of space for food and water options, with the carbonated and non-carbonated options only being for the most popular overall products\n",
    ">\n",
    "> **Earle Asphalt**\n",
    "> - Majority of options should be food products\n",
    "> - Water, carbonated and non-carbonated options only being the most popular for this location\n",
    ">\n",
    "> **Gutten Plans**\n",
    "> - Majority of options should be food and carbonated drink products\n",
    ">  - Non-carbonated options should only be the most popular for this location\n",
    "> - Test with the most popular water products to see if this option is in demand\n",
    ">\n",
    "> **EB Public Library**\n",
    "> - Majority of vending products should be food\n",
    "> - Stock popular carbonated drinks and non-carbonated product options\n",
    "> - Only the most popular water products should be stocked at this location"
   ]
  }
 ],
 "metadata": {
  "kernelspec": {
   "display_name": "Python 3",
   "language": "python",
   "name": "python3"
  },
  "language_info": {
   "codemirror_mode": {
    "name": "ipython",
    "version": 3
   },
   "file_extension": ".py",
   "mimetype": "text/x-python",
   "name": "python",
   "nbconvert_exporter": "python",
   "pygments_lexer": "ipython3",
   "version": "3.7.12"
  },
  "papermill": {
   "default_parameters": {},
   "duration": 14.05931,
   "end_time": "2022-12-09T18:39:29.192647",
   "environment_variables": {},
   "exception": null,
   "input_path": "__notebook__.ipynb",
   "output_path": "__notebook__.ipynb",
   "parameters": {},
   "start_time": "2022-12-09T18:39:15.133337",
   "version": "2.3.4"
  }
 },
 "nbformat": 4,
 "nbformat_minor": 5
}
